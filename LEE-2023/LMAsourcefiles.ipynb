{
 "cells": [
  {
   "cell_type": "markdown",
   "id": "db1863cb-afe2-4533-841e-1bae6f5f0b6a",
   "metadata": {},
   "source": [
    "## LMA source files"
   ]
  },
  {
   "cell_type": "markdown",
   "id": "e03640f3-33f2-4fee-90fc-9fc7439f6196",
   "metadata": {},
   "source": [
    "Let's look at some data files from LEE IOP3. According to the [chief scientist summary](https://catalog.eol.ucar.edu/lee/report/67/501/344058/106957064) there was lightning during the hours of 8-11 UTC, inclusive. We can download it from the [NSSL THREDDS server](https://data.nssl.noaa.gov/thredds/catalog/WRDD/OKLMA/deployments/LEE/2022/11/20/catalog.html) for 20 Nov 2022. There is a pretty big file at 1100 UTC, so let's download that one. Click on its filename (`LYLOUT_221120_110000_0600.dat.gz`) and then click on the `HTTPServer` link.\n",
    "\n",
    "However, the URLs follow a nice pattern, so we can take automate downloading of all the data, as implemented below.\n",
    "\n",
    "You only need to run this once, since the data are saved to the current directory after downloading."
   ]
  },
  {
   "cell_type": "code",
   "execution_count": 6,
   "id": "a12de016-abaa-4fda-8ff7-71ed7b293123",
   "metadata": {},
   "outputs": [
    {
     "name": "stdout",
     "output_type": "stream",
     "text": [
      "Downloading LYLOUT_221120_080000_0600.dat.gz\n",
      "Downloading LYLOUT_221120_081000_0600.dat.gz\n",
      "Downloading LYLOUT_221120_082000_0600.dat.gz\n",
      "Downloading LYLOUT_221120_083000_0600.dat.gz\n",
      "Downloading LYLOUT_221120_084000_0600.dat.gz\n",
      "Downloading LYLOUT_221120_085000_0600.dat.gz\n",
      "Downloading LYLOUT_221120_090000_0600.dat.gz\n",
      "Downloading LYLOUT_221120_091000_0600.dat.gz\n",
      "Downloading LYLOUT_221120_092000_0600.dat.gz\n",
      "Downloading LYLOUT_221120_093000_0600.dat.gz\n",
      "Downloading LYLOUT_221120_094000_0600.dat.gz\n",
      "Downloading LYLOUT_221120_095000_0600.dat.gz\n",
      "Downloading LYLOUT_221120_100000_0600.dat.gz\n",
      "Downloading LYLOUT_221120_101000_0600.dat.gz\n",
      "Downloading LYLOUT_221120_102000_0600.dat.gz\n",
      "Downloading LYLOUT_221120_103000_0600.dat.gz\n",
      "Downloading LYLOUT_221120_104000_0600.dat.gz\n",
      "Downloading LYLOUT_221120_105000_0600.dat.gz\n",
      "Downloading LYLOUT_221120_110000_0600.dat.gz\n",
      "Downloading LYLOUT_221120_111000_0600.dat.gz\n",
      "Downloading LYLOUT_221120_112000_0600.dat.gz\n",
      "Downloading LYLOUT_221120_113000_0600.dat.gz\n",
      "Downloading LYLOUT_221120_114000_0600.dat.gz\n",
      "Downloading LYLOUT_221120_115000_0600.dat.gz\n"
     ]
    }
   ],
   "source": [
    "import urllib.request\n",
    "from datetime import datetime, timedelta\n",
    "# base_url = \"https://data.nssl.noaa.gov/thredds/catalog/WRDD/OKLMA/deployments/LEE/%Y/%m/%d/catalog.html?dataset=WRDD/OKLMA/deployments/LEE/%Y/%m/%d/LYLOUT_%y%m%d_%H%M%S_0600.dat.gz\"\n",
    "base_url = \"https://data.nssl.noaa.gov/thredds/fileServer/WRDD/OKLMA/deployments/LEE/%Y/%m/%d/LYLOUT_%y%m%d_%H%M%S_0600.dat.gz\"\n",
    "\n",
    "first_time = datetime(2022,11,20,8,0,0)\n",
    "last_time = datetime(2022,11,20,12,0,0)\n",
    "file_time_step = timedelta(0, 600)\n",
    "n_files = (last_time-first_time)/file_time_step\n",
    "\n",
    "all_times = (first_time + file_time_step*i for i in range(int(n_files)))\n",
    "filenames = [t.strftime(base_url) for t in all_times]\n",
    "for fn in filenames:\n",
    "    base_fn = fn.split('/')[-1]\n",
    "    print(\"Downloading\", base_fn)\n",
    "    urllib.request.urlretrieve(fn, base_fn)"
   ]
  },
  {
   "cell_type": "markdown",
   "id": "fe3c3b12-eb81-4ecd-8991-7f2faf393719",
   "metadata": {},
   "source": [
    "The old-style LMA source files have filenames like `LYLOUT_20211013_000000_0600.dat.gz`. Newer ones look like `WTLMA_2011_211013_102700_0060.dat.gz`. \n",
    "\n",
    "In the newer files, `LYLOUT` (which was shared by all networks) is replaced with a network identifier, here `WTLMA_2011`, for the West Texas LMA that was established in 2011. All files end with `yyyymmdd_HHMMSS_duration.dat.gz`. The start time of the file is `yyyymmdd_HHMMSS`, and `duration` is the total length of the file in seconds.\n",
    "\n",
    "They are compressed (`.gz`) plain text files - if you unzip them you can look at them with any text editor.\n",
    "\n",
    "Realtime data files are usually one minute in length. Postprocessed data files are almost always ten minutes long."
   ]
  },
  {
   "cell_type": "markdown",
   "id": "ec2cb9ec-886d-4d20-88a5-4312e534df6c",
   "metadata": {},
   "source": [
    "### Headers of LMA postprocessed data.\n",
    "\n",
    "Main sections:\n",
    "- `Analysis program:` is the command used to process this data file.\n",
    "- The next few lines are information about the LMA network read from the `.loc` or `.gps` file provided to the processing program, and other information about the processing settings used.\n",
    "- The `Station information` table provides the location (here, truncated for privacy)  and receive channel (Ch. 3 is 60-66 MHz) of each station.\n",
    "- The `Station data` table gives the data collection mode of the station. Here we see an 80 µs collection window was used, that there was an assumed 70 ns GPS timing error, the number and fraction of sources to which each station contributed, a power metric relative to the median (I think), and  whether that station was active and used in processing this data file.\n",
    "- The `Station mask order` tells us which station corresponds to which bit in the station mask. We'll explain this below.\n",
    "- Finally, we have a description of the data format for the VHF sources (here, called events), with a descriptive name for each column and its the data format, and the total event count. These descriptions are not always correct, as you can see for the realtime data file!"
   ]
  },
  {
   "cell_type": "markdown",
   "id": "124581b0-00af-4b1f-af26-7a40a8f3308a",
   "metadata": {},
   "source": [
    "**Postprocessed data header** from 2022-11-20, 1100-1110 UTC - ten minutes of data.\n",
    "\n",
    "We'll use a bit of Python to unzip the data file and look at the first 70 lines.\n",
    "\n",
    "To run this line yourself, change the path to the filename on your computer."
   ]
  },
  {
   "cell_type": "code",
   "execution_count": 7,
   "id": "fa376765-a937-4993-be36-756c0d0904b1",
   "metadata": {},
   "outputs": [
    {
     "name": "stdout",
     "output_type": "stream",
     "text": [
      "Lightning Mapping Array analyzed data\n",
      "Analysis program: ./lma_analysis -d 20221120 -t 110000 -s 600 -l /raid/lng2/data/mobile/locations/mobile_LEEall.loc -a -n 5 -o /raid/lng1/analyzed_data_v10/deployments/LEE/2022/11/20/ -q\n",
      "Analysis program version: 10.14.5R\n",
      "File created: Mon Nov 21 08:53:12 2022\n",
      "Data start time: 11/20/22 11:00:00\n",
      "Number of seconds analyzed: 600\n",
      "Location: NSSL Mobile\n",
      "Coordinate center (lat,lon,alt): 43.5861878 -75.7169257 220.76\n",
      "Coordinate frame: cartesian\n",
      "Maximum diameter of LMA (km): 99.721\n",
      "Maximum light-time across LMA (ns): 332699\n",
      "Number of stations: 16\n",
      "Number of active stations: 16\n",
      "Active stations: A B C D E F G H N R S T U V W X\n",
      "Minimum number of stations per solution: 5\n",
      "Maximum reduced chi-squared: 5.00\n",
      "Maximum number of chi-squared iterations: 20\n",
      "Station information: id, name, lat(d), lon(d), alt(m), delay(ns), board_rev, rec_ch\n",
      "Sta_info: A  Site 1             43.9077669  -75.7100771   358.94  100 52  3\n",
      "Sta_info: B  Site 2             43.5299437  -75.4711200   509.00  100 52  3\n",
      "Sta_info: C  Site 3             43.3470481  -75.7544386   142.61  100 52  3\n",
      "Sta_info: D  Site 4             43.6868811  -75.2862067   363.88  100 52  3\n",
      "Sta_info: E  Site 5             43.7922631  -76.1979789    64.44  100 52  3\n",
      "Sta_info: F  Site 6             43.2532712  -75.5339088   121.89  100 52  3\n",
      "Sta_info: G  Site 7             43.5298968  -75.8189444   272.80  100 52  3\n",
      "Sta_info: H  Site 8             43.6456100  -76.0141589   248.88  100 52  3\n",
      "Sta_info: N  UNIT_N             43.8399011  -75.4290750   215.63  100 51  6\n",
      "Sta_info: R  UNIT_R             44.0405522  -75.8609833   136.85  100 51  6\n",
      "Sta_info: S  UNIT_S             43.5524731  -76.1223458   104.30  100 51  6\n",
      "Sta_info: T  UNIT_T             43.4380567  -75.2255694   337.83  100 51  6\n",
      "Sta_info: U  UNIT_U             43.9892703  -76.0237369    73.12  100 51  6\n",
      "Sta_info: V  UNIT_V             43.3682175  -75.9103411   194.93  100 51  6\n",
      "Sta_info: W  UNIT_W             43.3345047  -75.1781767   357.42  100 51  6\n",
      "Sta_info: X  UNIT_X             43.8612794  -76.0149547   158.52  100 51  6\n",
      "Station data: id, name, win(us), dec_win(us), data_ver, rms_error(ns), sources, %, <P/P_m>, active\n",
      "Sta_data: A  Site 1              80    12   70   103196  38.9  3.50   A\n",
      "Sta_data: B  Site 2              80    12   70    92404  34.8  0.22   A\n",
      "Sta_data: C  Site 3              80    12   70    46833  17.7  2.02   A\n",
      "Sta_data: D  Site 4              80    12   70    56442  21.3  0.69   A\n",
      "Sta_data: E  Site 5              80    12   70    95190  35.9  0.20   A\n",
      "Sta_data: F  Site 6              80    12   70    47350  17.8  3.17   A\n",
      "Sta_data: G  Site 7              80    12   70    52262  19.7  0.76   A\n",
      "Sta_data: H  Site 8              80    12   70   167560  63.2  0.34   A\n",
      "Sta_data: N  UNIT_N              80    10   70    77290  29.1 80.52   A\n",
      "Sta_data: R  UNIT_R              80    10   70    77742  29.3  0.43   A\n",
      "Sta_data: S  UNIT_S              80    10   70    97617  36.8  2.50   A\n",
      "Sta_data: T  UNIT_T              80    10   70    56649  21.4  3.36   A\n",
      "Sta_data: U  UNIT_U              80    10   70    74197  28.0  0.25   A\n",
      "Sta_data: V  UNIT_V              80    10   70   115973  43.7 250.82   A\n",
      "Sta_data: W  UNIT_W              80    10   70    89632  33.8  2.42   A\n",
      "Sta_data: X  UNIT_X              80    10   70    83558  31.5  0.20   A\n",
      "Metric file version: 4\n",
      "Station mask order: XWVUTSRNHGFEDCBA\n",
      "Data: time (UT sec of day), lat, lon, alt(m), reduced chi^2, P(dBW), mask\n",
      "Data format: 15.9f 12.8f 13.8f 9.2f 6.2f 5.1f 6x\n",
      "Number of events: 265297\n",
      "*** data ***\n",
      "39600.036336391  43.19043905  -75.75449981 125313.81   0.03  -8.3 0x009b\n",
      "39600.627140983  43.64288787  -75.67284756  22548.27   3.49 -10.3 0x00d3\n",
      "39600.883224685  43.75294015  -75.89417600  14936.08   2.75 -15.2 0x00b3\n",
      "39601.001460431  43.67972457  -76.10894281  32427.56   1.61  -3.6 0xc181\n",
      "39601.006176243  43.38282246  -75.15588183  19876.48   0.01  -4.5 0x1d80\n",
      "39601.010170968  43.38504270  -75.20493637  49939.08   0.04   1.6 0xe300\n",
      "39601.014676382  43.64077807  -75.31179667  14409.80   1.35  -9.4 0xab00\n",
      "39601.019920280  45.73741309  -71.68292901 133269.06   1.85  22.7 0x2898\n",
      "39601.028110162  43.58946499  -76.00922940   4230.67   0.14  15.0 0x2d80\n",
      "39601.031435742  44.31016552  -75.70461237   6251.41   0.32   3.1 0x2b80\n",
      "39601.031830240  44.01487309  -75.43826312  81413.23   0.38  13.8 0x31a0\n",
      "39601.033015658  43.89482995  -75.28921531  71023.34   0.79   1.8 0xe0a0\n",
      "39601.039129397  43.69409486  -75.38183071 155055.45   0.02   6.1 0x0591\n"
     ]
    }
   ],
   "source": [
    "n_lines = 70\n",
    "filename = 'LYLOUT_221120_110000_0600.dat.gz'\n",
    "\n",
    "import gzip\n",
    "with gzip.open(filename, 'rt', encoding='utf8') as lmafile:\n",
    "    header_lines = [lmafile.readline() for i in range(n_lines)]\n",
    "for line in header_lines:\n",
    "    print(line, end='')"
   ]
  },
  {
   "cell_type": "markdown",
   "id": "17ea45e0-a9e6-4d4c-bb3c-f57464592e2b",
   "metadata": {},
   "source": [
    "For comparison, look at this **Realtime data header** from West Texas on 2021-10-13 0400-0401 UTC - one minute of data."
   ]
  },
  {
   "cell_type": "raw",
   "id": "399161ea-785c-4e5f-8d32-b7ea7194de14",
   "metadata": {},
   "source": [
    "Lightning Mapping Array analyzed data\n",
    "Analysis program: /data/lma_realtime/new/lma_analysis-10.14.9RT -g /data/lma_realtime/new/wt.gps -n 5 -o /data/lma_realtime/out -x 5.00\n",
    "Analysis program version: 10.14.9RT\n",
    "File created: Wed Oct 13 04:01:02 2021\n",
    "Data start time: 10/13/21 04:00:00\n",
    "Number of seconds analyzed: 60\n",
    "Location: WTLMA_2011\n",
    "Coordinate center (lat,lon,alt): 33.6069680 -101.8226250 984.00\n",
    "Coordinate frame: cartesian\n",
    "Maximum diameter of LMA (km): 79.743\n",
    "Maximum light-time across LMA (ns): 266047\n",
    "Number of stations: 12\n",
    "Number of active stations: 7\n",
    "Active stations: W B N P A H X\n",
    "Minimum number of stations per solution: 5\n",
    "Maximum reduced chi-squared: 5.00\n",
    "Maximum number of chi-squared iterations: 20\n",
    "Station information: id, name, lat(d), lon(d), alt(m), delay(ns), board_rev, rec_ch\n",
    "Sta_info: E  Estac              33.6  -101.8   984.00   26 3  3\n",
    "Sta_info: G  Idalo              33.7  -101.6   992.00   26 3  3\n",
    "Sta_info: W  Llano              33.4  -101.7   956.85   26 3  3\n",
    "Sta_info: B  Biggin             33.7  -102.0  1007.59   26 3  3\n",
    "Sta_info: N  Newdl              33.7  -101.8   998.45   26 3  3\n",
    "Sta_info: O  Reese              33.5  -102.0  1018.00   26 3  3\n",
    "Sta_info: R  Roosevelt          33.5  -101.6   960.00   26 3  3\n",
    "Sta_info: L  Loren              33.6  -101.5   956.00   26 3  3\n",
    "Sta_info: P  Peter              33.8  -101.6   978.00   26 3  3\n",
    "Sta_info: A  Abern              33.9  -101.8  1022.23   26 3  3\n",
    "Sta_info: H  Wolff              33.4  -102.0   993.51   26 3  3\n",
    "Sta_info: X  Level              33.5  -102.3  1049.01   26 3  3\n",
    "Station data: id, name, win(us), dec_win(us), data_ver, rms_error(ns), sources, %, <P/P_m>, active\n",
    "Sta_data: E  Estac                0     0   70        0   0.0  0.00  NA\n",
    "Sta_data: G  Idalo               80    12   70       74 7400.0  1.07  NA\n",
    "Sta_data: W  Llano               80    12   70        2 200.0  0.34   A\n",
    "Sta_data: B  Biggin              80    12   70        3 300.0  0.22   A\n",
    "Sta_data: N  Newdl               80    12   70       76 7600.0  0.35   A\n",
    "Sta_data: O  Reese                0     0   70        0   0.0  0.00  NA\n",
    "Sta_data: R  Roosevelt            0     0   70        0   0.0  0.00  NA\n",
    "Sta_data: L  Loren                0     0   70        0   0.0  0.00  NA\n",
    "Sta_data: P  Peter               80    12   70       77 7700.0  1.58   A\n",
    "Sta_data: A  Abern               80    12   70       76 7600.0  3.99   A\n",
    "Sta_data: H  Wolff               80    12   70       76 7600.0  0.31   A\n",
    "Sta_data: X  Level               80    12   70        2 200.0  0.09   A\n",
    "Metric file version: 4\n",
    "Station mask order: XHAPLRONBWGE\n",
    "Data: time (UT sec of day), lat, lon, alt(m), reduced chi^2, P(dBW), mask\n",
    "Data format: 15.9f 12.8f 13.8f 9.2f 6.2f 5.1f 5x\n",
    "Number of events: 1\n",
    "*** data ***\n",
    "14402.294258784  33.68914553 -102.11318221  32320.04   3.96  -8.2 0xf08\n",
    "14406.018238618  33.66219201 -102.05494124  37331.34   0.67   5.0 0x718\n",
    "14429.547782698  34.24702550 -101.74849670   7692.76   0.13  10.6 0x712\n",
    "14429.556551814  34.24626004 -101.75420033   7793.37   0.02  21.9 0x712\n",
    "14429.558081952  34.24751434 -101.75747915   8816.25   2.03  10.2 0x712\n"
   ]
  },
  {
   "cell_type": "markdown",
   "id": "66409c06-bfdc-411d-a2fb-2bd9835958b8",
   "metadata": {},
   "source": [
    "How do we tell the difference between the file types? Look at the `lma_analysis` line: the program version ending in `RT` indicates realtime, while the postprocessing ends in `R`, for reasons I don't understand. The path to the output filename location (`-o`) also gives a clue about where the data file was first saved, which hopefully was on a somewhat informative path on your data processing server."
   ]
  },
  {
   "cell_type": "markdown",
   "id": "6d1c4ae2-86c6-4464-a4cc-5b00edce5d15",
   "metadata": {},
   "source": [
    "## Interpreting the event data columns\n",
    "\n",
    "\n",
    "The first data point on 20 Nov 2022 after 1100 UTC is \n",
    "\n",
    "```\n",
    "Data: time (UT sec of day), lat, lon, alt(m), reduced chi^2, P(dBW), mask\n",
    "...\n",
    "39600.036336391  43.19043905  -75.75449981 125313.81   0.03  -8.3 0x009b\n",
    "```\n",
    "\n",
    "The time and location columns in the data file above are self-explanatory, though it is good to know they are with respect to the WGS84 ellipsoid. Note that this source was located at 125 km altitude - well into low-earth orbit, so we might suspect it's not a real lightning source.\n",
    "\n",
    "The $\\chi^2$ value will be discussed in a bit. The event power, in dBW at the source, is also provided.\n",
    "\n",
    "The station mask column is a [hexadecimal number](https://en.wikipedia.org/wiki/Hexadecimal), where each digit after the `0x` represents a value between 0-15. Let's look at how to interpret `0x009b`."
   ]
  },
  {
   "cell_type": "code",
   "execution_count": 8,
   "id": "9969717b-6aac-45fe-b1a3-284cdfb1bde5",
   "metadata": {},
   "outputs": [
    {
     "data": {
      "text/plain": [
       "155"
      ]
     },
     "execution_count": 8,
     "metadata": {},
     "output_type": "execute_result"
    }
   ],
   "source": [
    "# 9=9, a=10, b=11, etc.\n",
    "9*16+11*1"
   ]
  },
  {
   "cell_type": "code",
   "execution_count": 9,
   "id": "1c967edc-c432-4380-a642-630590044d36",
   "metadata": {},
   "outputs": [
    {
     "name": "stdout",
     "output_type": "stream",
     "text": [
      "Hex 0x009b is decimal integer 155\n",
      "Integer 155 is binary 0000000010011011\n"
     ]
    }
   ],
   "source": [
    "# Convert hexadecimal (base-16) to a decimal (base-10) integer\n",
    "hexmask = '0x009b'\n",
    "number = int(hexmask, 16)\n",
    "print(\"Hex {0} is decimal integer {1}\".format(hexmask, number))\n",
    "\n",
    "# Print the integer as a decimal, and as binary, with leading zeroes and 16 bits (016b).\n",
    "print(\"Integer {0} is binary {0:016b}\".format(number))"
   ]
  },
  {
   "cell_type": "markdown",
   "id": "b7f2d941-bc20-4a23-bfdf-ea8db063220a",
   "metadata": {},
   "source": [
    "We see that `0x009b` converts to this binary string corresponding to the station location order from the header:\n",
    "\n",
    "```\n",
    "0000000010011011\n",
    "XWVUTSRNHGFEDCBA\n",
    "```\n",
    "\n",
    "so stations H, E, D, B, and A contributed to this solution. If we sum the bits in the station mask, we find the number of contributing stations was 5, right at the minimum required for a solution (5).\n",
    "\n",
    "**The number of contributing staitons is an important parameter that lets us control the amount of noise in our science analyses.**\n",
    "\n",
    "For a fully operational network a minimum of 6 contributing stations is a good starting number, but values of 5 or 7 can be useful.\n",
    "\n",
    "Noise is primarily caused by false correlations produced by random, local VHF sources at several stations that happen to correlate with each other. More stations in a network means a greater chance of false corelation, so larger LMA networks tend to need a minimum higher station count to keep noise in check."
   ]
  },
  {
   "cell_type": "markdown",
   "id": "e8c68eb6-7110-4ff6-b52e-2107c17b0ba0",
   "metadata": {},
   "source": [
    "**The other primary quality control parameter is the reduced `chi^2` value.** The processing requires that all sources have $\\chi^2 < 5$.\n",
    "\n",
    "\n",
    "(If you see values larger than 5 in a data file, a second pass has been used to restore some very high power sources that might be a special class of discharge called a \"narrow bipolar event\". The post-processed header above includes `-y 500.00`, so a second pass was done for that data file, up to $\\chi^2 < 500$.)\n",
    "\n",
    "$\\chi^2$ is a measure of the goodness of fit of the solutions. Specifically, it is the [$\\chi^2$ statistic](https://mathworld.wolfram.com/Chi-SquaredDistribution.html) of the normalized squared timing errors. Using the notation of [Thomas et al. (2004)](10.1029/2004JD004549), eq. A2,\n",
    "\n",
    "\\begin{equation}\n",
    "\\Large\\chi^2 = \\Large\\sum_{i=1}^N \\frac{(t_i^\\mathrm{obs} - t_i^\\mathrm{fit})^2}{\\Delta t_\\mathrm{rms}^2},\n",
    "\\end{equation}\n",
    "\n",
    "where $t_i^\\mathrm{obs}$ is the observed arrival time of the source at each station, and $t_i^\\mathrm{fit}$ the predicted arrival time of each source (traveling at the speed of light) at each station. $\\Delta t_\\mathrm{rms}$ is the expected (root mean square) normalized timing error assumed in the processing, i.e., 70 ns for the two data files above.\n",
    "\n",
    "The actual value in the file is the **reduced $\\chi^2$**, \n",
    "\n",
    "\\begin{equation}\n",
    "\\chi_{\\nu}^2 = \\frac{\\chi^2}{N - 4}\n",
    "\\end{equation}\n",
    "\n",
    "which has been further normalized by the number of degrees of freedom $\\nu = N - 4$, where $N$ is the number of contributing stations and 4 is the number of retrieved paramters for the source location $(x,y,z,t)$.\n",
    "\n",
    "Using these equations, we can convert the data file's $\\chi_{\\nu}^2$ value into the actual timing errors, and/or calculate the true $\\chi_{\\nu}^2$ for the actual GPS timing noise, which is typically less than 70 ns. \n",
    "\n",
    "([Thomas et al. (2004)](10.1029/2004JD004549) shows how the timing errors relate to range, azimuth, and elevation errors, and how to determine $\\Delta t_\\mathrm{rms}$ for any data file.)\n",
    "\n",
    "Practically speaking, we usualy don't calculate the corrected $\\chi_\\nu^2$ unless we care about converting the timing errors into location errors.  Instead, we simply use the file's $\\chi_{\\nu}^2$ and reduce our maximum chi-sq until we're satisfied we've removed most noise.\n",
    "\n",
    "When [working with data from some day for the first time](./FirstLMAplots.ipynb), it is useful to experiment with a minimum number of stations of 5, 6, and 7, and reduced chi-squared values of 1.0 and 5.0, since the best setting for that day depends on the number of active stations and the radio noise in the ambient environment on that day. You will observe that there is a tradeoff between removing noise and removing detail in lightning channels. The balance point is a judgment call, but should always be reported in publications using LMA data."
   ]
  },
  {
   "cell_type": "markdown",
   "id": "bb412a9e-df9f-4b46-8e8e-993f6b2d0365",
   "metadata": {},
   "source": [
    "Now that we know what's in our data files, let's [move on to actually trying to filter and plot some data ourselves](./FirstLMAplots.ipynb)."
   ]
  },
  {
   "cell_type": "markdown",
   "id": "c7d621e0-fa0f-46bc-a4a3-0d98da94add1",
   "metadata": {},
   "source": [
    "**Bonus shell version of the Python command above**\n",
    "\n",
    "One fun thing about programming is that just about every task has an equivalent method in any programming language. If you're on Linux or Mac, you can also call out to the shell to do the same thing we did in Python to read the first seventy lines of an LMA file."
   ]
  },
  {
   "cell_type": "code",
   "execution_count": 10,
   "id": "ebe0ac07-715c-4943-8dcc-135fdff0f3ca",
   "metadata": {},
   "outputs": [
    {
     "name": "stdout",
     "output_type": "stream",
     "text": [
      "Lightning Mapping Array analyzed data\n",
      "Analysis program: ./lma_analysis -d 20221120 -t 110000 -s 600 -l /raid/lng2/data/mobile/locations/mobile_LEEall.loc -a -n 5 -o /raid/lng1/analyzed_data_v10/deployments/LEE/2022/11/20/ -q\n",
      "Analysis program version: 10.14.5R\n",
      "File created: Mon Nov 21 08:53:12 2022\n",
      "Data start time: 11/20/22 11:00:00\n",
      "Number of seconds analyzed: 600\n",
      "Location: NSSL Mobile\n",
      "Coordinate center (lat,lon,alt): 43.5861878 -75.7169257 220.76\n",
      "Coordinate frame: cartesian\n",
      "Maximum diameter of LMA (km): 99.721\n",
      "Maximum light-time across LMA (ns): 332699\n",
      "Number of stations: 16\n",
      "Number of active stations: 16\n",
      "Active stations: A B C D E F G H N R S T U V W X\n",
      "Minimum number of stations per solution: 5\n",
      "Maximum reduced chi-squared: 5.00\n",
      "Maximum number of chi-squared iterations: 20\n",
      "Station information: id, name, lat(d), lon(d), alt(m), delay(ns), board_rev, rec_ch\n",
      "Sta_info: A  Site 1             43.9077669  -75.7100771   358.94  100 52  3\n",
      "Sta_info: B  Site 2             43.5299437  -75.4711200   509.00  100 52  3\n",
      "Sta_info: C  Site 3             43.3470481  -75.7544386   142.61  100 52  3\n",
      "Sta_info: D  Site 4             43.6868811  -75.2862067   363.88  100 52  3\n",
      "Sta_info: E  Site 5             43.7922631  -76.1979789    64.44  100 52  3\n",
      "Sta_info: F  Site 6             43.2532712  -75.5339088   121.89  100 52  3\n",
      "Sta_info: G  Site 7             43.5298968  -75.8189444   272.80  100 52  3\n",
      "Sta_info: H  Site 8             43.6456100  -76.0141589   248.88  100 52  3\n",
      "Sta_info: N  UNIT_N             43.8399011  -75.4290750   215.63  100 51  6\n",
      "Sta_info: R  UNIT_R             44.0405522  -75.8609833   136.85  100 51  6\n",
      "Sta_info: S  UNIT_S             43.5524731  -76.1223458   104.30  100 51  6\n",
      "Sta_info: T  UNIT_T             43.4380567  -75.2255694   337.83  100 51  6\n",
      "Sta_info: U  UNIT_U             43.9892703  -76.0237369    73.12  100 51  6\n",
      "Sta_info: V  UNIT_V             43.3682175  -75.9103411   194.93  100 51  6\n",
      "Sta_info: W  UNIT_W             43.3345047  -75.1781767   357.42  100 51  6\n",
      "Sta_info: X  UNIT_X             43.8612794  -76.0149547   158.52  100 51  6\n",
      "Station data: id, name, win(us), dec_win(us), data_ver, rms_error(ns), sources, %, <P/P_m>, active\n",
      "Sta_data: A  Site 1              80    12   70   103196  38.9  3.50   A\n",
      "Sta_data: B  Site 2              80    12   70    92404  34.8  0.22   A\n",
      "Sta_data: C  Site 3              80    12   70    46833  17.7  2.02   A\n",
      "Sta_data: D  Site 4              80    12   70    56442  21.3  0.69   A\n",
      "Sta_data: E  Site 5              80    12   70    95190  35.9  0.20   A\n",
      "Sta_data: F  Site 6              80    12   70    47350  17.8  3.17   A\n",
      "Sta_data: G  Site 7              80    12   70    52262  19.7  0.76   A\n",
      "Sta_data: H  Site 8              80    12   70   167560  63.2  0.34   A\n",
      "Sta_data: N  UNIT_N              80    10   70    77290  29.1 80.52   A\n",
      "Sta_data: R  UNIT_R              80    10   70    77742  29.3  0.43   A\n",
      "Sta_data: S  UNIT_S              80    10   70    97617  36.8  2.50   A\n",
      "Sta_data: T  UNIT_T              80    10   70    56649  21.4  3.36   A\n",
      "Sta_data: U  UNIT_U              80    10   70    74197  28.0  0.25   A\n",
      "Sta_data: V  UNIT_V              80    10   70   115973  43.7 250.82   A\n",
      "Sta_data: W  UNIT_W              80    10   70    89632  33.8  2.42   A\n",
      "Sta_data: X  UNIT_X              80    10   70    83558  31.5  0.20   A\n",
      "Metric file version: 4\n",
      "Station mask order: XWVUTSRNHGFEDCBA\n",
      "Data: time (UT sec of day), lat, lon, alt(m), reduced chi^2, P(dBW), mask\n",
      "Data format: 15.9f 12.8f 13.8f 9.2f 6.2f 5.1f 6x\n",
      "Number of events: 265297\n",
      "*** data ***\n",
      "39600.036336391  43.19043905  -75.75449981 125313.81   0.03  -8.3 0x009b\n",
      "39600.627140983  43.64288787  -75.67284756  22548.27   3.49 -10.3 0x00d3\n",
      "39600.883224685  43.75294015  -75.89417600  14936.08   2.75 -15.2 0x00b3\n",
      "39601.001460431  43.67972457  -76.10894281  32427.56   1.61  -3.6 0xc181\n",
      "39601.006176243  43.38282246  -75.15588183  19876.48   0.01  -4.5 0x1d80\n",
      "39601.010170968  43.38504270  -75.20493637  49939.08   0.04   1.6 0xe300\n",
      "39601.014676382  43.64077807  -75.31179667  14409.80   1.35  -9.4 0xab00\n",
      "39601.019920280  45.73741309  -71.68292901 133269.06   1.85  22.7 0x2898\n",
      "39601.028110162  43.58946499  -76.00922940   4230.67   0.14  15.0 0x2d80\n",
      "39601.031435742  44.31016552  -75.70461237   6251.41   0.32   3.1 0x2b80\n",
      "39601.031830240  44.01487309  -75.43826312  81413.23   0.38  13.8 0x31a0\n",
      "39601.033015658  43.89482995  -75.28921531  71023.34   0.79   1.8 0xe0a0\n",
      "39601.039129397  43.69409486  -75.38183071 155055.45   0.02   6.1 0x0591\n"
     ]
    }
   ],
   "source": [
    "%%bash \n",
    "gunzip -c /Users/ebruning/Downloads/LYLOUT_221120_110000_0600.dat.gz | head -n 70"
   ]
  },
  {
   "cell_type": "code",
   "execution_count": null,
   "id": "69975a6e-c5e6-44b5-bbd1-b9a05d733d6f",
   "metadata": {},
   "outputs": [],
   "source": []
  }
 ],
 "metadata": {
  "kernelspec": {
   "display_name": "Python [conda env:leelma] *",
   "language": "python",
   "name": "conda-env-leelma-py"
  },
  "language_info": {
   "codemirror_mode": {
    "name": "ipython",
    "version": 3
   },
   "file_extension": ".py",
   "mimetype": "text/x-python",
   "name": "python",
   "nbconvert_exporter": "python",
   "pygments_lexer": "ipython3",
   "version": "3.10.8"
  }
 },
 "nbformat": 4,
 "nbformat_minor": 5
}
