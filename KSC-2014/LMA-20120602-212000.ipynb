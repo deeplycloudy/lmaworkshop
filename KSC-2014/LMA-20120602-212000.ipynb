{
 "metadata": {
  "name": "",
  "signature": "sha256:f7f10d9971df426db07d9353e190c952341ad607be24baca5b6c62279f903ff7"
 },
 "nbformat": 3,
 "nbformat_minor": 0,
 "worksheets": [
  {
   "cells": [
    {
     "cell_type": "markdown",
     "metadata": {},
     "source": [
      "Reproducible LMA research with the IPython notebook and brawl4d\n",
      "===============================================================\n",
      "\n",
      "This notebook demonstrates how to display data included in the lmatools repository.\n",
      "\n",
      "If you haven't yet, process and view sample data included with lmatools\n",
      "```\n",
      "python ~/code/lmatools/testing/test_sklearn.py /path/to/output/files/\n",
      "```\n",
      "Then, edit the data_path in the second cell to include `/path/to/output/files/` as defined above. Run all the cells prior to the \"Charge Analysis\" and try interacting with the plot. You should see some data.\n"
     ]
    },
    {
     "cell_type": "code",
     "collapsed": true,
     "input": [
      "import matplotlib\n",
      "%matplotlib qt4\n",
      "# import matplotlib\n",
      "# matplotlib.use('nbagg')\n",
      "#import matplotlib.pyplot as plt\n",
      "from brawl4d.brawl4d import B4D_startup, redraw\n",
      "import os"
     ],
     "language": "python",
     "metadata": {},
     "outputs": [],
     "prompt_number": 1
    },
    {
     "cell_type": "code",
     "collapsed": false,
     "input": [
      "data_path = '/data/DC3/flash_sort/'\n",
      "lma_file = os.path.join(data_path, 'h5_files/2012/Jun/02/LYLOUT_120602_212001_0600.dat.flash.h5')"
     ],
     "language": "python",
     "metadata": {},
     "outputs": [],
     "prompt_number": 2
    },
    {
     "cell_type": "markdown",
     "metadata": {},
     "source": [
      "In the cell below, note that the basedate has been set to match the dataset we specified above.\n",
      "\n",
      "If you are not using data from the WTLMA, then you'll also need to pass <code>ctr_lon=value</code> and <code>ctr_lat=value</code> to B4D_startup."
     ]
    },
    {
     "cell_type": "code",
     "collapsed": false,
     "input": [
      "from datetime import datetime\n",
      "panels = B4D_startup(basedate=datetime(2012,6,2), ctr_lat=40.4463980, ctr_lon=-104.6368130)"
     ],
     "language": "python",
     "metadata": {},
     "outputs": [
      {
       "output_type": "stream",
       "stream": "stderr",
       "text": [
        "/Users/ebruning/anaconda/lib/python2.7/site-packages/matplotlib/font_manager.py:1279: UserWarning: findfont: Font family [u'Helvetica'] not found. Falling back to Bitstream Vera Sans\n",
        "  (prop.get_family(), self.defaultFamily[fontext]))\n"
       ]
      }
     ],
     "prompt_number": 3
    },
    {
     "cell_type": "code",
     "collapsed": false,
     "input": [
      "import matplotlib.pyplot as plt; plt.show()"
     ],
     "language": "python",
     "metadata": {},
     "outputs": [],
     "prompt_number": 4
    },
    {
     "cell_type": "markdown",
     "metadata": {},
     "source": [
      "Below, set a valid path to <code>lma_file</code>. IPython will tab-complete paths, like the shell."
     ]
    },
    {
     "cell_type": "code",
     "collapsed": false,
     "input": [
      "from brawl4d.LMA.controller import LMAController\n",
      "lma_ctrl = LMAController()\n",
      "d, post_filter_brancher, scatter_ctrl, charge_lasso = lma_ctrl.load_hdf5_to_panels(panels, lma_file)"
     ],
     "language": "python",
     "metadata": {},
     "outputs": [
      {
       "output_type": "stream",
       "stream": "stdout",
       "text": [
        "found flash data\n"
       ]
      }
     ],
     "prompt_number": 5
    },
    {
     "cell_type": "heading",
     "level": 3,
     "metadata": {},
     "source": [
      "Zoom to overview of first minute"
     ]
    },
    {
     "cell_type": "code",
     "collapsed": false,
     "input": [
      "h,m,s,dt = 21, 20, 0, 60\n",
      "panels.panels['tz'].axis((h*3600 + m*60 + s, h*3600 + m*60 + s+dt, 1, 18))\n",
      "panels.panels['xy'].axis((-150, 150, -150, 150))"
     ],
     "language": "python",
     "metadata": {},
     "outputs": [
      {
       "metadata": {},
       "output_type": "pyout",
       "prompt_number": 6,
       "text": [
        "(-150, 150, -150, 150)"
       ]
      }
     ],
     "prompt_number": 6
    },
    {
     "cell_type": "code",
     "collapsed": false,
     "input": [
      "from brawl4d.LMA.widgets import LMAwidgetController\n",
      "from IPython.display import display\n",
      "from brawl4d.LMA.controller import LMAController\n",
      "\n",
      "lma_tools = LMAwidgetController(panels, lma_ctrl, scatter_ctrl, charge_lasso, d)\n",
      "display(lma_tools.tools_popup)\n"
     ],
     "language": "python",
     "metadata": {},
     "outputs": [],
     "prompt_number": 6
    },
    {
     "cell_type": "markdown",
     "metadata": {},
     "source": [
      "<script>\n",
      "import jsondata = tools_popup\n",
      "js = \"\"\"window.audiencePopup.data = JSON.parse('{0}');\"\"\".format(json.dumps(data))\n",
      "display(Javascript(js))\n",
      "</script>"
     ]
    },
    {
     "cell_type": "heading",
     "level": 3,
     "metadata": {},
     "source": [
      "Hereford storm"
     ]
    },
    {
     "cell_type": "code",
     "collapsed": false,
     "input": [
      "h,m,s,dt = 21, 21, 0, 60*2\n",
      "panels.panels['tz'].axis((h*3600 + m*60 + s, h*3600 + m*60 + s+dt, 1, 18))\n",
      "panels.panels['xy'].axis((25, 45, 45, 65))"
     ],
     "language": "python",
     "metadata": {},
     "outputs": [
      {
       "metadata": {},
       "output_type": "pyout",
       "prompt_number": 7,
       "text": [
        "(25, 45, 45, 65)"
       ]
      }
     ],
     "prompt_number": 7
    },
    {
     "cell_type": "markdown",
     "metadata": {},
     "source": [
      "Flashes remain elevated to the east, but there is now a ring of flash activity to the west with a hole. The next two cells advance minute-by-minute, in overlapping two minute windows. Notice that the cell consolidates once again, and a band of very small flashes develops near 10 km. This is consistent with a rising updraft surge, which can be seen in a longer time-height view."
     ]
    },
    {
     "cell_type": "code",
     "collapsed": false,
     "input": [
      "h,m,s,dt = 21, 22, 0, 60*1\n",
      "panels.panels['tz'].axis((h*3600 + m*60 + s, h*3600 + m*60 + s+dt, 1, 18))\n",
      "panels.panels['xy'].axis((25, 45, 45, 65))"
     ],
     "language": "python",
     "metadata": {},
     "outputs": [
      {
       "metadata": {},
       "output_type": "pyout",
       "prompt_number": 16,
       "text": [
        "(25, 45, 45, 65)"
       ]
      }
     ],
     "prompt_number": 16
    },
    {
     "cell_type": "code",
     "collapsed": false,
     "input": [
      "h,m,s,dt = 21, 23, 0, 60*2\n",
      "panels.panels['tz'].axis((h*3600 + m*60 + s, h*3600 + m*60 + s+dt, 1, 18))\n",
      "panels.panels['xy'].axis((25, 45, 45, 65))"
     ],
     "language": "python",
     "metadata": {},
     "outputs": [
      {
       "metadata": {},
       "output_type": "pyout",
       "prompt_number": 17,
       "text": [
        "(25, 45, 45, 65)"
       ]
      }
     ],
     "prompt_number": 17
    },
    {
     "cell_type": "code",
     "collapsed": false,
     "input": [
      "h,m,s,dt = 21, 24, 0, 60*2\n",
      "panels.panels['tz'].axis((h*3600 + m*60 + s, h*3600 + m*60 + s+dt, 1, 18))\n",
      "panels.panels['xy'].axis((25, 45, 45, 65))"
     ],
     "language": "python",
     "metadata": {},
     "outputs": [
      {
       "metadata": {},
       "output_type": "pyout",
       "prompt_number": 14,
       "text": [
        "(25, 45, 45, 65)"
       ]
      }
     ],
     "prompt_number": 14
    },
    {
     "cell_type": "code",
     "collapsed": false,
     "input": [
      "h,m,s,dt = 21, 25, 0, 60*2\n",
      "panels.panels['tz'].axis((h*3600 + m*60 + s, h*3600 + m*60 + s+dt, 1, 18))\n",
      "panels.panels['xy'].axis((25, 45, 45, 65))"
     ],
     "language": "python",
     "metadata": {},
     "outputs": [
      {
       "metadata": {},
       "output_type": "pyout",
       "prompt_number": 20,
       "text": [
        "(25, 45, 45, 65)"
       ]
      }
     ],
     "prompt_number": 20
    },
    {
     "cell_type": "heading",
     "level": 3,
     "metadata": {},
     "source": [
      "Distribution of flash sizes and charge"
     ]
    },
    {
     "cell_type": "code",
     "collapsed": false,
     "input": [
      "h,m,s,dt = 21, 26, 14, 22\n",
      "panels.panels['tz'].axis((h*3600 + m*60 + s, h*3600 + m*60 + s+dt, 1, 18))\n",
      "panels.panels['xy'].axis((25, 45, 45, 65))\n"
     ],
     "language": "python",
     "metadata": {},
     "outputs": [
      {
       "metadata": {},
       "output_type": "pyout",
       "prompt_number": 8,
       "text": [
        "(25, 45, 45, 65)"
       ]
      }
     ],
     "prompt_number": 8
    },
    {
     "cell_type": "markdown",
     "metadata": {},
     "source": [
      "We now see a reasonably mature storm that divides into a forward anvil and trailing preipication region with larger flashes, and smaller flashes in between.\n",
      "\n",
      "Large flash (one of two simultaneous flashes) at 2126:17.85 - 18.2\n",
      "  - -IC, but at lower level than eastern, northern extensive -ICs\n",
      "  - Upward-propagating negative leader toward smaller flahes\n",
      "  - Retrograde breakdown beginning 8 km and negative leader extension at :18.10\n",
      "  - Lower-level negative leaders into trailing positive charge are just above melting level.\n",
      "Small flashes at 36,52\n",
      "\n",
      "-ICs at 32.4 sec\n",
      "  - Numerous retrograde breakdown events leading to negative channel extension in SE flash\n",
      "  - Slightly lower altitude on first, northern flash\n",
      "Small flash 2126:26.96 - 27.08: total area 0.6 km$^2$ - very small. \n",
      "  - Just enough evidence to say this is a -IC. \n",
      "  - Downward initial activity would be neg ldr\n",
      "  - points at 10.4 km and 27.02-27.05 s probably retrograde breakdown\n",
      "Many other smaller flashes nearby, with indeterminate charge structure. Probably seeing mostly negative leaders, all at about 10 km.\n",
      "\n",
      "Summary is that we have almost exclusively positive charging to graupel, which precipitates, while negative ice crystals remain aloft. Not enough cloud above. Away from the updraft and its small flashes, the charge is lower and flashes are larger. RHIs showed a deep precipitation shaft on the western side of this storm; this was associated with large flashes and lower altitudes of the positive storm charge.\n",
      "\n",
      "Need to look at the updraft region to best gauge the electrification process itself, which is distinct from the charge regions that result from that updraft.\n"
     ]
    },
    {
     "cell_type": "heading",
     "level": 3,
     "metadata": {},
     "source": [
      "Two flashes: quadrupole or tilted dipole?"
     ]
    },
    {
     "cell_type": "markdown",
     "metadata": {},
     "source": [
      "These two flashes are both -ICs, but the lower negative leaders of the first flash are about at the same altitude as the upper positive leaders in the second flash. However, the evidence of positive ledaers is displaced by about 3 km, and the negative leader from the first flash come closer in space to the positive charge, suggesting that a tilted -/+ dipole might be more correct than -/+/-/+.\n",
      "\n",
      "These flashes illustrate the necessity of thinking meteorologically about the location of flashes relative to the updraft and precipitation trajectories associtaed with each storm.\n",
      "\n",
      "Positive leaders at:\n",
      "- 37.0, 53.5, 11.5 (first flash)\n",
      "- 34.5, 53.0, 10.2 (second flash)\n"
     ]
    },
    {
     "cell_type": "code",
     "collapsed": false,
     "input": [
      "h,m,s,dt = 21, 27, 29.54, 2\n",
      "panels.panels['tz'].axis((h*3600 + m*60 + s, h*3600 + m*60 + s+dt, 1, 18))\n",
      "panels.panels['xy'].axis((33, 38, 51, 57))\n"
     ],
     "language": "python",
     "metadata": {},
     "outputs": [
      {
       "metadata": {},
       "output_type": "pyout",
       "prompt_number": 22,
       "text": [
        "(33, 38, 51, 57)"
       ]
      }
     ],
     "prompt_number": 22
    },
    {
     "cell_type": "heading",
     "level": 3,
     "metadata": {},
     "source": [
      "Last two minutes"
     ]
    },
    {
     "cell_type": "code",
     "collapsed": false,
     "input": [
      "h,m,s,dt = 21, 28, 0, 60*2\n",
      "panels.panels['tz'].axis((h*3600 + m*60 + s, h*3600 + m*60 + s+dt, 1, 18))\n",
      "panels.panels['xy'].axis((25, 45, 45, 65))"
     ],
     "language": "python",
     "metadata": {},
     "outputs": [
      {
       "metadata": {},
       "output_type": "pyout",
       "prompt_number": 26,
       "text": [
        "(25, 45, 45, 65)"
       ]
      }
     ],
     "prompt_number": 26
    },
    {
     "cell_type": "markdown",
     "metadata": {},
     "source": [
      "Zoom in on 2129:00-2129:20, well-established slope.\n",
      "\n",
      "Forward flashes from 8-15 seconds.\n",
      "  - Northern flash, 12.42 seconds - positive retrograde breakdown?\n",
      "    - neg chg 9 km, pos chg 7.8 km\n",
      "  - Middle flash, 13.45 s\n",
      "    - neg chg 10.5 km, pos chg sloping from 9.9 down to 9.3 to north.\n",
      "    - 6 stations helps on neg end\n",
      "  - Southern flash 11.65 s\n",
      "    - neg chg 10.5 km, pos chg 9.5 km.\n",
      "  - A few small clusters on southern end.\n",
      "    - northern end is probably evidence of pos chg sloping down and away from updraft.\n",
      "\n",
      "Back to larger view - look at larger flashes on north end in y-z view\n",
      "  - 12.42 s, 17 s, 6 s represent east to west descent of positive charge.\n",
      "  - also seen in slope on x-z view\n",
      "\n"
     ]
    },
    {
     "cell_type": "code",
     "collapsed": false,
     "input": [
      "panels.bounds.limits()"
     ],
     "language": "python",
     "metadata": {},
     "outputs": [
      {
       "metadata": {},
       "output_type": "pyout",
       "prompt_number": 8,
       "text": [
        "[('x', (24.936575052854124, 45.063424947145876)),\n",
        " ('y', (45.0, 65.0)),\n",
        " ('z', (1.0, 18.0)),\n",
        " ('time', (76860.0, 76980.0))]"
       ]
      }
     ],
     "prompt_number": 8
    },
    {
     "cell_type": "code",
     "collapsed": false,
     "input": [],
     "language": "python",
     "metadata": {},
     "outputs": []
    }
   ],
   "metadata": {}
  }
 ]
}