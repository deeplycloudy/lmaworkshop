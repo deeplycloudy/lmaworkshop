{
 "metadata": {
  "name": "",
  "signature": "sha256:4b66e29c2b06402eb63368da7611c167f490f517c002b8f212b4aa47b73e0921"
 },
 "nbformat": 3,
 "nbformat_minor": 0,
 "worksheets": [
  {
   "cells": [
    {
     "cell_type": "markdown",
     "metadata": {},
     "source": [
      "Reproducible LMA research with the IPython notebook and brawl4d\n",
      "===============================================================\n",
      "\n",
      "This notebook demonstrates how to display data included in the lmatools repository.\n",
      "\n",
      "If you haven't yet, process and view sample data included with lmatools\n",
      "```\n",
      "python ~/code/lmatools/testing/test_sklearn.py /path/to/output/files/\n",
      "```\n",
      "Then, edit the data_path in the second cell to include `/path/to/output/files/` as defined above. Run all the cells prior to the \"Charge Analysis\" and try interacting with the plot. You should see some data.\n"
     ]
    },
    {
     "cell_type": "code",
     "collapsed": true,
     "input": [
      "import matplotlib\n",
      "%matplotlib qt4\n",
      "# import matplotlib\n",
      "# matplotlib.use('nbagg')\n",
      "#import matplotlib.pyplot as plt\n",
      "from brawl4d.brawl4d import B4D_startup, redraw\n",
      "import os"
     ],
     "language": "python",
     "metadata": {},
     "outputs": [],
     "prompt_number": 1
    },
    {
     "cell_type": "code",
     "collapsed": false,
     "input": [
      "data_path = '/data/DC3/flash_sort/'\n",
      "lma_file = os.path.join(data_path, 'h5_files/2012/Jun/02/LYLOUT_120602_215001_0600.dat.flash.h5')"
     ],
     "language": "python",
     "metadata": {},
     "outputs": [],
     "prompt_number": 2
    },
    {
     "cell_type": "markdown",
     "metadata": {},
     "source": [
      "In the cell below, note that the basedate has been set to match the dataset we specified above.\n",
      "\n",
      "If you are not using data from the WTLMA, then you'll also need to pass <code>ctr_lon=value</code> and <code>ctr_lat=value</code> to B4D_startup."
     ]
    },
    {
     "cell_type": "code",
     "collapsed": false,
     "input": [
      "from datetime import datetime\n",
      "panels = B4D_startup(basedate=datetime(2012,6,2), ctr_lat=40.4463980, ctr_lon=-104.6368130)"
     ],
     "language": "python",
     "metadata": {},
     "outputs": [
      {
       "output_type": "stream",
       "stream": "stderr",
       "text": [
        "/Users/ebruning/anaconda/lib/python2.7/site-packages/matplotlib/font_manager.py:1279: UserWarning: findfont: Font family [u'Helvetica'] not found. Falling back to Bitstream Vera Sans\n",
        "  (prop.get_family(), self.defaultFamily[fontext]))\n"
       ]
      }
     ],
     "prompt_number": 3
    },
    {
     "cell_type": "code",
     "collapsed": false,
     "input": [
      "import matplotlib.pyplot as plt; plt.show()"
     ],
     "language": "python",
     "metadata": {},
     "outputs": [],
     "prompt_number": 4
    },
    {
     "cell_type": "code",
     "collapsed": false,
     "input": [
      "from brawl4d.LMA.controller import LMAController\n",
      "lma_ctrl = LMAController()\n",
      "d, post_filter_brancher, scatter_ctrl, charge_lasso = lma_ctrl.load_hdf5_to_panels(panels, lma_file)"
     ],
     "language": "python",
     "metadata": {},
     "outputs": [
      {
       "output_type": "stream",
       "stream": "stdout",
       "text": [
        "found flash data\n"
       ]
      }
     ],
     "prompt_number": 5
    },
    {
     "cell_type": "heading",
     "level": 3,
     "metadata": {},
     "source": [
      "Zoom to overview of first minute"
     ]
    },
    {
     "cell_type": "code",
     "collapsed": false,
     "input": [
      "h,m,s,dt = 21, 50, 0, 60\n",
      "panels.panels['tz'].axis((h*3600 + m*60 + s, h*3600 + m*60 + s+dt, 1, 18))\n",
      "panels.panels['xy'].axis((-150, 150, -150, 150))"
     ],
     "language": "python",
     "metadata": {},
     "outputs": [
      {
       "metadata": {},
       "output_type": "pyout",
       "prompt_number": 7,
       "text": [
        "(-150, 150, -150, 150)"
       ]
      }
     ],
     "prompt_number": 7
    },
    {
     "cell_type": "code",
     "collapsed": false,
     "input": [
      "from brawl4d.LMA.widgets import LMAwidgetController\n",
      "from IPython.display import display\n",
      "from brawl4d.LMA.controller import LMAController\n",
      "\n",
      "lma_tools = LMAwidgetController(panels, lma_ctrl, scatter_ctrl, charge_lasso, d)\n",
      "display(lma_tools.tools_popup)\n"
     ],
     "language": "python",
     "metadata": {},
     "outputs": [],
     "prompt_number": 6
    },
    {
     "cell_type": "markdown",
     "metadata": {},
     "source": [
      "Zoom in on a few cells of interest. The smaller, western and northern cells here are anomalously electrified, while the larger cluster is normally electrified."
     ]
    },
    {
     "cell_type": "markdown",
     "metadata": {},
     "source": [
      "<script>\n",
      "import jsondata = tools_popup\n",
      "js = \"\"\"window.audiencePopup.data = JSON.parse('{0}');\"\"\".format(json.dumps(data))\n",
      "display(Javascript(js))\n",
      "</script>"
     ]
    },
    {
     "cell_type": "heading",
     "level": 3,
     "metadata": {},
     "source": [
      "Hereford storm"
     ]
    },
    {
     "cell_type": "code",
     "collapsed": false,
     "input": [
      "h,m,s,dt = 21, 50, 0, 60*10\n",
      "panels.panels['tz'].axis((h*3600 + m*60 + s, h*3600 + m*60 + s+dt, 1, 18))\n",
      "panels.panels['xy'].axis((35, 60, 45, 70))"
     ],
     "language": "python",
     "metadata": {},
     "outputs": [
      {
       "metadata": {},
       "output_type": "pyout",
       "prompt_number": 9,
       "text": [
        "(35, 60, 45, 70)"
       ]
      }
     ],
     "prompt_number": 9
    },
    {
     "cell_type": "code",
     "collapsed": false,
     "input": [
      "panels.bounds.limits()"
     ],
     "language": "python",
     "metadata": {},
     "outputs": [
      {
       "metadata": {},
       "output_type": "pyout",
       "prompt_number": 8,
       "text": [
        "[('x', (34.920718816067655, 60.079281183932345)),\n",
        " ('y', (45.0, 70.0)),\n",
        " ('z', (1.0, 18.0)),\n",
        " ('time', (78600.0, 79200.0))]"
       ]
      }
     ],
     "prompt_number": 8
    },
    {
     "cell_type": "code",
     "collapsed": false,
     "input": [],
     "language": "python",
     "metadata": {},
     "outputs": []
    }
   ],
   "metadata": {}
  }
 ]
}