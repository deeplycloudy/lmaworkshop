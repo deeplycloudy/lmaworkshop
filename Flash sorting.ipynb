{
 "metadata": {
  "name": "",
  "signature": "sha256:de64b05aae1ddaf46cd13fcc4aa18706d8aa4de72fe7cd91247aeae715aa7b73"
 },
 "nbformat": 3,
 "nbformat_minor": 0,
 "worksheets": [
  {
   "cells": [
    {
     "cell_type": "markdown",
     "metadata": {},
     "source": [
      "The script `sortCOLMA.py` is a demonstration of how to sort data from the Colorado Lightning Mapping Array. It is easily adapted to data from other networks.\n",
      "\n",
      "The flash sorting infrastructure is modular. This script uses the <a href=\"http://scikit-learn.org/stable/modules/generated/sklearn.cluster.DBSCAN.html#sklearn.cluster.DBSCAN\">DBSCAN algorithm </a> as implemented in the <a href=\"http://scikit-learn.org\">scikit-learn</a> machine-learning library. In order to manage the $N^2$ efficiency of the underlying DBSCAN implementation, data are clustered in pairs of `thresh_duration` chunks.\n",
      "\n",
      "The script is configurable in a few places. \n",
      "- `base_sort_dir` sets the path where \n",
      "- `center_ID` chooses a network center. The centers are defined in the `centers` dictionary. The ID is used later when constructing output filenames, too.\n",
      "- The `params` dictionary configures the flash sorting algorithm. Of particular importance are the following.\n",
      "  - `stations`: sets the (min, max) number of stations that must participate in each solution for it to count. Max should be larger than the number of stations. Min should be six or seven, depending on the number of stations.\n",
      "  - `chi2`: sets the (min, max) chi-squared value. The minimum should be zero, while a good maximum to start with is 1.0.\n",
      "  - `distance`: maximum distance between a source and its closest neighbor before a new flash is started\n",
      "  - `thresh_critical_time`: maximum temporal separation between a source and its closest neighbor before a new flash is started\n",
      "  - `thresh_duration`: All flashes should be last less than or equal to this number of seconds. All flashes of duration < `thresh_duration` are guaranteed to remain clustered. An occasional lucky flash of duration =  2 \\* `thresh_duration` is possible.\n",
      "\n",
      "The script is broken into three sections.\n",
      "- Run the flash sorting, which creates HDF5 data files with VHF source data, their flash IDs, and a matching flash data table.\n",
      "- Grab the flash-sorted files and create CF-compliant NetCDF grids\n",
      "- Grab the grids and create PDF images of each grid\n",
      "\n",
      "The grid spacing, boundaries, and frame intervals are configured at the begining of the gridding section of the script. This script creates regularly-spaced lat/lon grids, with the center grid cell size calculated to match the specified `dx_km` and `dy_km`. It is also possible to grid directly in a map projection of choice by changing `proj_name`, as well as `x_name` and `y_name` in the call to `make_plot`.\n",
      "\n",
      "The PDF images are created as small-multiple plots, with the number of columns given by `n_cols` at the beginning of the plotting section.\n",
      "\n",
      "The script is run from the terminal as you see in the cell below. It accepts a list of filenames matching the standard `LYLOUT_YYMMDD_HHMMSS_duration.dat[.gz]` file naming convention. It does not handle day boundaries, so run it on at most a single day's worth of data at a time."
     ]
    },
    {
     "cell_type": "code",
     "collapsed": false,
     "input": [
      "%%bash\n",
      "\n",
      "python sortCOLMA.py /data/DC3/20120602/LMA/LYLOUT_120602_20*.dat.gz"
     ],
     "language": "python",
     "metadata": {},
     "outputs": []
    },
    {
     "cell_type": "markdown",
     "metadata": {},
     "source": [
      "Tour of the HDF5 data, including the data format. See lmatools example notebook.\n",
      "\n",
      "Activity: modify script to 5, 6, 7 stations and change chi2 to 5 for 6 station case. Change base_sort_dir each time.\n",
      "Examination of flash output results for different chi2, stations\n",
      "\n",
      "\n",
      "There is an example of animating the grids in lmatools/examples/Plot LMA NetCDF.ipynb\n",
      "\n",
      "Another notebook for vis and interesting checkpoints"
     ]
    }
   ],
   "metadata": {}
  }
 ]
}