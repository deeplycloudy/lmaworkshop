{
 "metadata": {
  "name": "",
  "signature": "sha256:826409b1e933d2a4ee472f54090fda9b5455a8cf3ba0b50570fb0892273e9527"
 },
 "nbformat": 3,
 "nbformat_minor": 0,
 "worksheets": [
  {
   "cells": [
    {
     "cell_type": "markdown",
     "metadata": {},
     "source": [
      "Reproducible LMA research with the IPython notebook and brawl4d\n",
      "===============================================================\n",
      "\n",
      "This notebook demonstrates how to display data included in the lmatools repository.\n",
      "\n",
      "If you haven't yet, process and view sample data included with lmatools\n",
      "```\n",
      "python ~/code/lmatools/testing/test_sklearn.py /path/to/output/files/\n",
      "```\n",
      "Then, edit the data_path in the second cell to include `/path/to/output/files/` as defined above. Run all the cells prior to the \"Charge Analysis\" and try interacting with the plot. You should see some data.\n"
     ]
    },
    {
     "cell_type": "code",
     "collapsed": false,
     "input": [
      "import mayavi.mlab as mvlab\n",
      "import matplotlib\n"
     ],
     "language": "python",
     "metadata": {},
     "outputs": [
      {
       "output_type": "stream",
       "stream": "stderr",
       "text": [
        "WARNING:traits.has_traits:DEPRECATED: traits.has_traits.wrapped_class, 'the 'implements' class advisor has been deprecated. Use the 'provides' class decorator.\n"
       ]
      }
     ],
     "prompt_number": 1
    },
    {
     "cell_type": "code",
     "collapsed": true,
     "input": [
      "%matplotlib qt4\n",
      "# import matplotlib\n",
      "# matplotlib.use('nbagg')\n",
      "#import matplotlib.pyplot as plt\n",
      "from brawl4d.brawl4d import B4D_startup, redraw\n",
      "import os"
     ],
     "language": "python",
     "metadata": {},
     "outputs": [],
     "prompt_number": 2
    },
    {
     "cell_type": "code",
     "collapsed": false,
     "input": [
      "data_path = '/data/DC3/flash_sort/'\n",
      "lma_file = os.path.join(data_path, 'h5_files/2012/Jun/02/LYLOUT_120602_211001_0600.dat.flash.h5')"
     ],
     "language": "python",
     "metadata": {},
     "outputs": [],
     "prompt_number": 3
    },
    {
     "cell_type": "markdown",
     "metadata": {},
     "source": [
      "In the cell below, note that the basedate has been set to match the dataset we specified above.\n",
      "\n",
      "If you are not using data from the WTLMA, then you'll also need to pass <code>ctr_lon=value</code> and <code>ctr_lat=value</code> to B4D_startup."
     ]
    },
    {
     "cell_type": "code",
     "collapsed": false,
     "input": [
      "from datetime import datetime\n",
      "panels = B4D_startup(basedate=datetime(2012,6,2), ctr_lat=40.4463980, ctr_lon=-104.6368130)"
     ],
     "language": "python",
     "metadata": {},
     "outputs": [
      {
       "output_type": "stream",
       "stream": "stderr",
       "text": [
        "/Users/ebruning/anaconda/lib/python2.7/site-packages/matplotlib/font_manager.py:1279: UserWarning: findfont: Font family [u'Helvetica'] not found. Falling back to Bitstream Vera Sans\n",
        "  (prop.get_family(), self.defaultFamily[fontext]))\n"
       ]
      }
     ],
     "prompt_number": 4
    },
    {
     "cell_type": "code",
     "collapsed": false,
     "input": [
      "import matplotlib.pyplot as plt; plt.show()"
     ],
     "language": "python",
     "metadata": {},
     "outputs": [],
     "prompt_number": 5
    },
    {
     "cell_type": "markdown",
     "metadata": {},
     "source": [
      "Below, set a valid path to <code>lma_file</code>. IPython will tab-complete paths, like the shell."
     ]
    },
    {
     "cell_type": "code",
     "collapsed": false,
     "input": [
      "from brawl4d.LMA.controller import LMAController\n",
      "lma_ctrl = LMAController()\n",
      "d, post_filter_brancher, scatter_ctrl, charge_lasso = lma_ctrl.load_hdf5_to_panels(panels, lma_file)"
     ],
     "language": "python",
     "metadata": {},
     "outputs": [
      {
       "output_type": "stream",
       "stream": "stdout",
       "text": [
        "found flash data\n"
       ]
      }
     ],
     "prompt_number": 6
    },
    {
     "cell_type": "heading",
     "level": 3,
     "metadata": {},
     "source": [
      "Zoom to overview of first minute"
     ]
    },
    {
     "cell_type": "code",
     "collapsed": false,
     "input": [
      "h,m,s,dt = 21, 10, 0, 60\n",
      "panels.panels['tz'].axis((h*3600 + m*60 + s, h*3600 + m*60 + s+dt, 1, 18))\n",
      "panels.panels['xy'].axis((-150, 150, -150, 150))"
     ],
     "language": "python",
     "metadata": {},
     "outputs": [
      {
       "metadata": {},
       "output_type": "pyout",
       "prompt_number": 7,
       "text": [
        "(-150, 150, -150, 150)"
       ]
      }
     ],
     "prompt_number": 7
    },
    {
     "cell_type": "code",
     "collapsed": false,
     "input": [
      "from brawl4d.LMA.widgets import LMAwidgetController\n",
      "from IPython.display import display\n",
      "from brawl4d.LMA.controller import LMAController\n",
      "\n",
      "lma_tools = LMAwidgetController(panels, lma_ctrl, scatter_ctrl, charge_lasso, d)\n",
      "display(lma_tools.tools_popup)\n"
     ],
     "language": "python",
     "metadata": {},
     "outputs": [],
     "prompt_number": 8
    },
    {
     "cell_type": "markdown",
     "metadata": {},
     "source": [
      "The cell above contains and combines all functions of Brawl4d into a single .py file. This allows all tools to be activiated simultaneously, while also enabling a centralized container for all active widgets for convienence.\n",
      "\n",
      "<b><u>LMA Tools Contained:</u></b>\n",
      "\n",
      "<i>Number of Stations:</i> Specify accordingly with data file (min=1; max=11)\n",
      "\n",
      "<i>Max Chi2:</i>           Values for chi2 obtained from the data file (min=0.0; max=1.0)\n",
      "\n",
      "<i>Charge Selection:</i>   Selection for Negative (-1), Neutral (0), and Positive (1) charge for charge selection and analyzation in the               browser. The draw button activates the lasso tool                             enabling charge selection; re-clicking the draw button is                     necessary upon each selection made.\n",
      "\n",
      "<i>Color By:</i>           Allows the display of LMA data by chi2, time, or charge; selecting one will redraw the plot in the browser.\n",
      "\n",
      "<i>Animation Time:</i>     Allows for animation of the LMA data in the browser for charge polarity determination made by Charge Selection.            The slider allows the user to select a desired time for                       total animation duration (min=1s, max=30s). Clicking                         Animate will then animate the data after a desired time                       has been selected.\n"
     ]
    },
    {
     "cell_type": "markdown",
     "metadata": {},
     "source": [
      "<script>\n",
      "import jsondata = tools_popup\n",
      "js = \"\"\"window.audiencePopup.data = JSON.parse('{0}');\"\"\".format(json.dumps(data))\n",
      "display(Javascript(js))\n",
      "</script>"
     ]
    },
    {
     "cell_type": "heading",
     "level": 3,
     "metadata": {},
     "source": [
      "Hereford storm - first 5 min"
     ]
    },
    {
     "cell_type": "code",
     "collapsed": false,
     "input": [
      "h,m,s,dt = 21, 15, 0, 60*5\n",
      "panels.panels['tz'].axis((h*3600 + m*60 + s, h*3600 + m*60 + s+dt, 1, 18))\n",
      "panels.panels['xy'].axis((25, 45, 45, 65))"
     ],
     "language": "python",
     "metadata": {},
     "outputs": [
      {
       "metadata": {},
       "output_type": "pyout",
       "prompt_number": 10,
       "text": [
        "(25, 45, 45, 65)"
       ]
      }
     ],
     "prompt_number": 10
    },
    {
     "cell_type": "heading",
     "level": 4,
     "metadata": {},
     "source": [
      "First few flashes"
     ]
    },
    {
     "cell_type": "code",
     "collapsed": false,
     "input": [
      "h,m,s,dt = 21, 15, 50, 50\n",
      "panels.panels['tz'].axis((h*3600 + m*60 + s, h*3600 + m*60 + s+dt, 1, 18))\n",
      "panels.panels['xy'].axis((29, 36, 49, 56))"
     ],
     "language": "python",
     "metadata": {},
     "outputs": [
      {
       "metadata": {},
       "output_type": "pyout",
       "prompt_number": 16,
       "text": [
        "(29, 36, 49, 56)"
       ]
      }
     ],
     "prompt_number": 16
    },
    {
     "cell_type": "markdown",
     "metadata": {},
     "source": [
      "Most flashes are small clusters with no discernible positive leaders; what's observed is most likely negative leader. Flash at 2116:17.7 s shows negative leaders at 7.8 km, and downward propagation at the end of the flash to 6.5 km. Other flashes are small <1 km$^2$ balls of sources, but which show some propagation on occasion. Most of the small clusters have altitudes of about 8.8 km, excep for the flash after 2116:30, which matches the altitude of the flash at 2116:17.7, but with a slight westward offset."
     ]
    },
    {
     "cell_type": "heading",
     "level": 4,
     "metadata": {},
     "source": [
      "First two minutes - two flashes with easily discernible charge structure."
     ]
    },
    {
     "cell_type": "code",
     "collapsed": false,
     "input": [
      "h,m,s,dt = 21, 15, 50, 110\n",
      "panels.panels['tz'].axis((h*3600 + m*60 + s, h*3600 + m*60 + s+dt, 1, 18))\n",
      "panels.panels['xy'].axis((27, 36, 48, 57))"
     ],
     "language": "python",
     "metadata": {},
     "outputs": [
      {
       "metadata": {},
       "output_type": "pyout",
       "prompt_number": 22,
       "text": [
        "(27, 36, 48, 57)"
       ]
      }
     ],
     "prompt_number": 22
    },
    {
     "cell_type": "markdown",
     "metadata": {},
     "source": [
      "See some evidence of a several distinct regions of flashing. \n",
      "  - All small flashes at x=34 km, at the hightest altitude. \n",
      "  - Another region to west, x=30 to 33 km, medium and small flashes.\n",
      "  - Region west of x=30 km, largest flashes\n",
      "\n",
      "Zoom in on the activity at 2117:00, which is actually two flashes. Finally some good evidence of -ICs. Eastern flash is in the middle region."
     ]
    },
    {
     "cell_type": "heading",
     "level": 4,
     "metadata": {},
     "source": [
      "Next minute"
     ]
    },
    {
     "cell_type": "code",
     "collapsed": false,
     "input": [
      "h,m,s,dt = 21, 17, 41, 60\n",
      "panels.panels['tz'].axis((h*3600 + m*60 + s, h*3600 + m*60 + s+dt, 1, 18))\n",
      "panels.panels['xy'].axis((27, 36, 48, 57))"
     ],
     "language": "python",
     "metadata": {},
     "outputs": [
      {
       "metadata": {},
       "output_type": "pyout",
       "prompt_number": 23,
       "text": [
        "(27, 36, 48, 57)"
       ]
      }
     ],
     "prompt_number": 23
    },
    {
     "cell_type": "markdown",
     "metadata": {},
     "source": [
      "Elevated eastern flashes, lower western flashes.\n",
      "  - Elevated flashes a bit larger, \n",
      "  - Western flashes still have two levels of negative leaders.\n",
      "\n",
      "Two flashes in the eastern cluster show a tilted, -/+/- charge structure, sloping down and to southwest\n",
      "  - 2117:53 is a -IC, with descending negative retrograde breakdown\n",
      "  - 2117:23 is a +IC, with ascending negative retrograde breakdown"
     ]
    },
    {
     "cell_type": "heading",
     "level": 4,
     "metadata": {},
     "source": [
      "Summary of first three minutes"
     ]
    },
    {
     "cell_type": "code",
     "collapsed": false,
     "input": [
      "h,m,s,dt = 21, 15, 40, 60*3\n",
      "panels.panels['tz'].axis((h*3600 + m*60 + s, h*3600 + m*60 + s+dt, 1, 18))\n",
      "panels.panels['xy'].axis((27, 36, 48, 57))"
     ],
     "language": "python",
     "metadata": {},
     "outputs": [
      {
       "metadata": {},
       "output_type": "pyout",
       "prompt_number": 24,
       "text": [
        "(27, 36, 48, 57)"
       ]
      }
     ],
     "prompt_number": 24
    },
    {
     "cell_type": "markdown",
     "metadata": {},
     "source": [
      "Overall, the initial charge structure is complicated, even in this small cell which is less than 10 km across. But there are distinct regions with elevated flashes tending to be small, and larger flashes down lower. This is consistent with the idea that updrafts have small flashes and precipitating regions tend toward larger, organized charge regions.\n",
      "\n",
      "This is common for storms with a strong updraft, in contrast to mountainous or weak multicellular (\"airmass\") storms as are common in the subtropics."
     ]
    },
    {
     "cell_type": "heading",
     "level": 4,
     "metadata": {},
     "source": [
      "Adding the 80 seconds in this file"
     ]
    },
    {
     "cell_type": "code",
     "collapsed": false,
     "input": [
      "h,m,s,dt = 21, 15, 40, 180+60+20\n",
      "panels.panels['tz'].axis((h*3600 + m*60 + s, h*3600 + m*60 + s+dt, 1, 18))\n",
      "panels.panels['xy'].axis((27, 39, 48, 60))"
     ],
     "language": "python",
     "metadata": {},
     "outputs": [
      {
       "metadata": {},
       "output_type": "pyout",
       "prompt_number": 27,
       "text": [
        "(27, 39, 48, 60)"
       ]
      }
     ],
     "prompt_number": 27
    },
    {
     "cell_type": "markdown",
     "metadata": {},
     "source": [
      "Flashes in the eastern half of the storm remain elvated, but tend a bit larger toward the latter half of this file.\n",
      "\n",
      "In the next notebook, we will jump ahead to 2121-2123, and see this pattern consolidate."
     ]
    },
    {
     "cell_type": "markdown",
     "metadata": {},
     "source": [
      "Flash statistics\n",
      "----------------\n",
      "\n",
      "If the LMA controller found flash data, then it's possible to get a live update of flashes in the current view. <code>current_events_flashes</code> is an analysis pipeline branchpoint, which will send events and flashes to another analysis pipeline segment that can be specified with <code>current_events_flashes.targets.add(target)</code>. Behind the scenes, it's hooked up to an segment that receives the events and flashes, and prints the average flash area of all flashes that have more than a threshold number of points.\n",
      "\n",
      "Change the view a few times and you'll see updated flash stats below."
     ]
    },
    {
     "cell_type": "code",
     "collapsed": false,
     "input": [
      "current_events_flashes = lma_ctrl.flash_stats_for_dataset(d, scatter_ctrl.branchpoint)"
     ],
     "language": "python",
     "metadata": {},
     "outputs": [],
     "prompt_number": 8
    },
    {
     "cell_type": "code",
     "collapsed": false,
     "input": [],
     "language": "python",
     "metadata": {},
     "outputs": [],
     "prompt_number": 8
    },
    {
     "cell_type": "code",
     "collapsed": false,
     "input": [
      "@coroutine\n",
      "def events_flashes_printer():\n",
      "    while True:\n",
      "        evs, fls = (yield)\n",
      "        print evs['lon'], evs['lat']\n",
      "info_printer = events_flashes_printer()\n",
      "current_events_flashes.targets.add(info_printer)"
     ],
     "language": "python",
     "metadata": {},
     "outputs": [],
     "prompt_number": 13
    },
    {
     "cell_type": "code",
     "collapsed": false,
     "input": [
      "panels.bounds.limits()"
     ],
     "language": "python",
     "metadata": {},
     "outputs": [
      {
       "output_type": "stream",
       "stream": "stdout",
       "text": [
        "\n",
        "2 of 4 flashes have > 10 points. Their average area =   2.7 km^2\n"
       ]
      },
      {
       "metadata": {},
       "output_type": "pyout",
       "prompt_number": 24,
       "text": [
        "[('x', (32.791941358574263, 38.72589515320481)),\n",
        " ('y', (51.260562726344133, 57.157117652521123)),\n",
        " ('z', (0.45241156355291423, 13.523410086875302)),\n",
        " ('time', (77249.540000192297, 77251.49070000503))]"
       ]
      }
     ],
     "prompt_number": 24
    },
    {
     "cell_type": "code",
     "collapsed": false,
     "input": [],
     "language": "python",
     "metadata": {},
     "outputs": []
    }
   ],
   "metadata": {}
  }
 ]
}