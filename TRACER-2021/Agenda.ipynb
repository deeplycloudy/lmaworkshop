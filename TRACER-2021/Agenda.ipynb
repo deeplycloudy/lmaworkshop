{
 "cells": [
  {
   "cell_type": "markdown",
   "id": "fc2c7cad-c9cb-4fac-9dd6-7ded16c3fb58",
   "metadata": {},
   "source": [
    "## TRACER LMA Workshop"
   ]
  },
  {
   "cell_type": "markdown",
   "id": "88a8a046-2baf-4ae3-8ffb-e19e7ca25857",
   "metadata": {
    "tags": []
   },
   "source": [
    "2-5 pm, 21 Oct 2021.\n",
    "\n",
    "Installation instructions are in the [README for this repostiory](./README.md).\n",
    "\n",
    "Also, before we get started, you might need to pull this repostiory to get the most recent notebooks.\n",
    "\n",
    "Some missing installation instructions, to add a couple forgotted packages:\n",
    "\n",
    "`conda install -c conda-forge metpy cartopy`\n",
    "\n",
    "\n",
    "### Topics\n",
    "\n",
    "- [LMA hardware: VHF signals, trigger files, and source location files](./LMAHardware.ipynb)\n",
    "- [Data file structure](./LMAsourcefiles.ipynb): distinguishing realtime from decimated, data columns\n",
    "- [Reading data files, plotting raw data. ](./FirstLMAplots.ipynb)\n",
    "- [Flash sorting and gridding of raw data, plotting events as a standard 4-panel plot, and saving to NetCDF](./flash_processing.ipynb)\n",
    "- [Plotting LMA data in an xlma-style 4-panel directly from the saved gridded data file](./XLMA_plots.ipynb)\n",
    "    - This looks identical to the plot we made in the flash processing notebook above. \n",
    "    - It's a nice demonstration that the plotting is independent of the data processing.\n",
    "\n",
    "\n",
    "Discussion topics for field campaign LMA operations:\n",
    "- Station log files, threshold monitoring.\n",
    "- synthesis of deployable/relocatable stations\n",
    "    - station location file\n",
    "    - different cable delays\n",
    "- timeline for postprocessing\n",
    "    - note how fast it was to create some basic, quality-controlled data products that can be reused by anyone!\n",
    "\n",
    "Discussion topics for further science analysis:\n",
    "- More flexible gridding and plotting of flash sorted data (3D, time-height)\n",
    "- creation of LMA performance maps"
   ]
  },
  {
   "cell_type": "code",
   "execution_count": null,
   "id": "1f38f5d6-5833-43a1-83bc-7537b35ff58a",
   "metadata": {
    "tags": []
   },
   "outputs": [],
   "source": []
  }
 ],
 "metadata": {
  "kernelspec": {
   "display_name": "Python 3 (ipykernel)",
   "language": "python",
   "name": "python3"
  },
  "language_info": {
   "codemirror_mode": {
    "name": "ipython",
    "version": 3
   },
   "file_extension": ".py",
   "mimetype": "text/x-python",
   "name": "python",
   "nbconvert_exporter": "python",
   "pygments_lexer": "ipython3",
   "version": "3.9.6"
  }
 },
 "nbformat": 4,
 "nbformat_minor": 5
}
