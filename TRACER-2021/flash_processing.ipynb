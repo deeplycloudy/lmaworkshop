{
 "cells": [
  {
   "cell_type": "markdown",
   "id": "f8a377b7-de4f-40ff-a386-4b1babf1deda",
   "metadata": {},
   "source": [
    "# From VHF sources to lightning flashes\n",
    "\n",
    "Using space-time criteria, we will group LMA data into flashes. We will also create a 2D gridded version of these flash data to look at VHF source density, flash extent density, and average flash area. \n",
    "\n",
    "Background reading: [Bruning and MacGorman (2013, JAS)](http://dx.doi.org/10.1175/JAS-D-12-0289.1) show how flash area is defined from the convex hull of the VHF point sources (Fig. 2) and show what flash extent density and average flash area look like for a supercell (Fig. 4). We'll use the same definitions here."
   ]
  },
  {
   "cell_type": "code",
   "execution_count": 31,
   "id": "civil-display",
   "metadata": {},
   "outputs": [],
   "source": [
    "import glob\n",
    "import numpy as np\n",
    "import datetime\n",
    "import xarray as xr\n",
    "import pyproj as proj4\n",
    "\n",
    "from pyxlma.lmalib.io import read as lma_read\n",
    "from pyxlma.lmalib.flash.cluster import cluster_flashes\n",
    "from pyxlma.lmalib.flash.properties import flash_stats, filter_flashes\n",
    "from pyxlma.lmalib.grid import  create_regular_grid, assign_regular_bins, events_to_grid\n",
    "\n",
    "import sys, glob\n",
    "\n",
    "from lmalibtracer.coords.sbu import get_sbu_proj as get_coord_proj"
   ]
  },
  {
   "cell_type": "code",
   "execution_count": 26,
   "id": "9e821070-b1f9-42a5-94c8-ade22d43092a",
   "metadata": {},
   "outputs": [
    {
     "data": {
      "text/plain": [
       "<module 'lmalibtracer.coords' (namespace)>"
      ]
     },
     "execution_count": 26,
     "metadata": {},
     "output_type": "execute_result"
    }
   ],
   "source": [
    "lmalibtracer.coords"
   ]
  },
  {
   "cell_type": "code",
   "execution_count": 12,
   "id": "22cea862-bd53-4cdd-99b8-073ca704b29b",
   "metadata": {},
   "outputs": [],
   "source": [
    "%matplotlib widget\n",
    "import matplotlib.pyplot as plt"
   ]
  },
  {
   "cell_type": "markdown",
   "id": "substantial-bench",
   "metadata": {},
   "source": [
    "## Configurable Parameters \n",
    "\n",
    "These are the parameters that will be used by the flash sorting and gridding algorithms - it's a fairly small list.\n",
    "\n",
    "These parameters are the ones we would expect to adjust when controlling for noise. We also require that a flash have more than one point!\n",
    "\n"
   ]
  },
  {
   "cell_type": "code",
   "execution_count": 2,
   "id": "horizontal-mainland",
   "metadata": {},
   "outputs": [],
   "source": [
    "filenames = glob.glob('/data/Houston/130619/LYLOUT_130619_2[0-1]*.dat.gz')"
   ]
  },
  {
   "cell_type": "code",
   "execution_count": 39,
   "id": "forward-essex",
   "metadata": {},
   "outputs": [],
   "source": [
    "# Adjust this to match the length of the dataset we read in. It is used to set up \n",
    "# the total duration of the gridding along the time dimension.\n",
    "duration_min = 120\n",
    "\n",
    "# Source to flash \n",
    "chi2max = 1.0\n",
    "stationsmin = 6\n",
    "min_events_per_flash = 5\n",
    "\n",
    "# There is a parameter to change the gridding from the 1 min default time resolution.\n",
    "grid_time_delta_sec = 60\n",
    "resolution_m = 1000\n",
    "latlon_grid=False # False uses the stereographic coordinate grid."
   ]
  },
  {
   "cell_type": "markdown",
   "id": "understanding-trigger",
   "metadata": {},
   "source": [
    "## Read VHF source data and write flash-sorted NetCDF file.\n",
    "\n",
    "Includes filtering by flash event count."
   ]
  },
  {
   "cell_type": "code",
   "execution_count": 4,
   "id": "moral-discretion",
   "metadata": {},
   "outputs": [
    {
     "name": "stdout",
     "output_type": "stream",
     "text": [
      "Reading files\n",
      "LMA 2000-2200 UTC 19 June 2013 \n",
      "Clustering flashes\n",
      "Calculating flash stats\n",
      "<xarray.Dataset>\n",
      "Dimensions:                              (number_of_events: 219640, number_of_flashes: 4308, number_of_stations: 13)\n",
      "Coordinates:\n",
      "  * number_of_flashes                    (number_of_flashes) uint64 3 ... 8190\n",
      "Dimensions without coordinates: number_of_events, number_of_stations\n",
      "Data variables:\n",
      "    network_center_latitude              float64 29.76\n",
      "    network_center_longitude             float64 -95.37\n",
      "    network_center_altitude              float64 -200.0\n",
      "    station_latitude                     (number_of_stations) float32 29.9392...\n",
      "    station_longitude                    (number_of_stations) float32 -95.646...\n",
      "    station_altitude                     (number_of_stations) float32 31.6600...\n",
      "    station_event_fraction               (number_of_stations) float32 37154.0...\n",
      "    station_power_ratio                  (number_of_stations) float32 1.02083...\n",
      "    event_latitude                       (number_of_events) float32 31.346949...\n",
      "    event_longitude                      (number_of_events) float32 -96.4831 ...\n",
      "    event_altitude                       (number_of_events) float32 8841.32 ....\n",
      "    event_time                           (number_of_events) datetime64[ns] 20...\n",
      "    event_power                          (number_of_events) float32 10.4 ... ...\n",
      "    event_mask                           (number_of_events) uint32 2375 ... 2383\n",
      "    event_stations                       (number_of_events) uint8 6 7 7 ... 7 7\n",
      "    event_chi2                           (number_of_events) float32 0.42 ... ...\n",
      "    event_contributing_stations          (number_of_events, number_of_stations) uint8 ...\n",
      "    event_id                             (number_of_events) uint64 9 ... 321983\n",
      "    station_code                         (number_of_stations) object b'A' ......\n",
      "    flash_distance_separation_threshold  float64 3e+03\n",
      "    flash_time_separation_threshold      float64 0.15\n",
      "    flash_duration_threshold             float64 nan\n",
      "    flash_time_merge_threshold           float64 nan\n",
      "    flash_time_start                     (number_of_flashes) datetime64[ns] 2...\n",
      "    flash_time_end                       (number_of_flashes) datetime64[ns] 2...\n",
      "    flash_duration                       (number_of_flashes) timedelta64[ns] ...\n",
      "    flash_init_latitude                  (number_of_flashes) float32 31.34694...\n",
      "    flash_init_longitude                 (number_of_flashes) float32 -96.4831...\n",
      "    flash_init_altitude                  (number_of_flashes) float32 8841.32 ...\n",
      "    flash_area                           (number_of_flashes) float32 20.83425...\n",
      "    flash_volume                         (number_of_flashes) float32 0.020834...\n",
      "    flash_energy                         (number_of_flashes) float32 0.010769...\n",
      "    flash_center_latitude                (number_of_flashes) float32 31.33872...\n",
      "    flash_center_longitude               (number_of_flashes) float32 -96.4454...\n",
      "    flash_center_altitude                (number_of_flashes) float32 10884.46...\n",
      "    flash_power                          (number_of_flashes) float32 727.2 .....\n",
      "    flash_event_count                    (number_of_flashes) uint32 47 9 ... 5\n",
      "    event_parent_flash_id                (number_of_events) uint64 3 3 ... 8190\n",
      "    event_x                              (number_of_events) float64 -1.076e+0...\n",
      "    event_y                              (number_of_events) float64 1.767e+05...\n",
      "    event_z                              (number_of_events) float32 8841.32 ....\n",
      "    flash_id                             (number_of_flashes) uint64 3 ... 8190\n",
      "Attributes:\n",
      "    title:                    Lightning Mapping Array Dataset, L1b events and...\n",
      "    event_algorithm_name:      /data1/thor_ori/lma_admin/lma/lma_analysis -d ...\n",
      "    comment:                  \n",
      "    references:               \n",
      "    flash_algorithm_name:     pyxlma DBSCAN\n",
      "    event_algorithm_version:   10.11.1RT\n",
      "    institution:              unknown\n",
      "    history:                  LMA source file created  Sat Sep 12 23:56:45 20...\n",
      "    production_date:          2021-10-20 19:34:09 +00:00\n",
      "    source:                   VHF Lightning Mapping Array\n",
      "    production_site:          Default\n",
      "    flash_algorithm_version:  0.1\n"
     ]
    }
   ],
   "source": [
    "print(\"Reading files\")\n",
    "lma_data, starttime = lma_read.dataset(filenames)\n",
    "good_events = (lma_data.event_stations >= stationsmin) & (lma_data.event_chi2 <= chi2max)\n",
    "lma_data = lma_data[{'number_of_events':good_events}]\n",
    "\n",
    "dttuple = [starttime, starttime+datetime.timedelta(minutes=duration_min)]\n",
    "# dttuple = lma_data.Datetime.min(), lma_data.Datetime.max()\n",
    "tstring = 'LMA {}-{}'.format(dttuple[0].strftime('%H%M'),\n",
    "                                  dttuple[1].strftime('%H%M UTC %d %B %Y '))\n",
    "print(tstring)\n",
    "\n",
    "print(\"Clustering flashes\")\n",
    "ds = cluster_flashes(lma_data)\n",
    "print(\"Calculating flash stats\")\n",
    "ds = flash_stats(ds)\n",
    "ds = filter_flashes(ds, flash_event_count=(min_events_per_flash, None))\n",
    "# ds0 = ds.copy()\n",
    "print(ds)"
   ]
  },
  {
   "cell_type": "markdown",
   "id": "b82a28e2-c82f-485e-8dcc-25fd303ac39e",
   "metadata": {},
   "source": [
    "## Contents of the flash-sorted LMA data structure.\n",
    "\n",
    "Once the cell above finishes running, you'll see that our LMA data structure has grown. There is a new `number_of_flashes` dimension, and associated flash data variables. We still have all of the events, but they have been filtered to be just the ones that meet the stations and chi_2 criteria.\n",
    "\n",
    "Perhaps the most important two variables in terms of understanding the data are the `event_parent_flash_id` and `flash_id` variables. Their dimensions are `number_of_events` and `number of flashes`, respectively. Each flash has a unique `flash_id`, an unsigned integer, and then each event in that flash is labled with that integer. Therefore, those two variables define which events go with which flashes, and let us pair up flash-level statstics (such as `flash_area`) with the events used to calculate those statistics."
   ]
  },
  {
   "cell_type": "code",
   "execution_count": 9,
   "id": "2574279c-2377-4586-b847-e78e306d49bb",
   "metadata": {},
   "outputs": [
    {
     "name": "stdout",
     "output_type": "stream",
     "text": [
      "<xarray.DataArray 'event_parent_flash_id' (number_of_events: 219640)>\n",
      "array([   3,    3,    3, ..., 8190, 8190, 8190], dtype=uint64)\n",
      "Dimensions without coordinates: number_of_events\n",
      "Attributes:\n",
      "    _FillValue:   18446744073709551615\n",
      "    cf_role:      tree_id\n",
      "    coordinates:  event_id\n",
      "-----\n",
      "-----\n",
      "<xarray.DataArray 'flash_id' (number_of_flashes: 4308)>\n",
      "array([   3, 8196, 8197, ..., 8187, 8188, 8190], dtype=uint64)\n",
      "Coordinates:\n",
      "  * number_of_flashes  (number_of_flashes) uint64 3 8196 8197 ... 8187 8188 8190\n"
     ]
    }
   ],
   "source": [
    "print(ds.event_parent_flash_id)\n",
    "print('-----')\n",
    "print('-----')\n",
    "print(ds.flash_id)"
   ]
  },
  {
   "cell_type": "markdown",
   "id": "75652314-ff8c-4f45-9121-65bcd853f4a7",
   "metadata": {},
   "source": [
    "Let's see how many events are in our flashes. We can also check for an expected correlation: do the number of events increase with flash area?"
   ]
  },
  {
   "cell_type": "code",
   "execution_count": 15,
   "id": "64a65279-104e-45fe-8499-28ae53d0cb9c",
   "metadata": {},
   "outputs": [
    {
     "name": "stdout",
     "output_type": "stream",
     "text": [
      "[   0    1    3    7   15   31   63  127  255  511 1023 2047]\n"
     ]
    },
    {
     "data": {
      "text/plain": [
       "[]"
      ]
     },
     "execution_count": 15,
     "metadata": {},
     "output_type": "execute_result"
    },
    {
     "data": {
      "application/vnd.jupyter.widget-view+json": {
       "model_id": "f795a6d909054bcc91bede5fe4b1b46b",
       "version_major": 2,
       "version_minor": 0
      },
      "image/png": "[encoded data removed]",
      "text/plain": [
       "Canvas(toolbar=Toolbar(toolitems=[('Home', 'Reset original view', 'home', 'home'), ('Back', 'Back to previous …"
      ]
     },
     "metadata": {},
     "output_type": "display_data"
    }
   ],
   "source": [
    "event_count_bins = 2**np.arange(12)-0.5\n",
    "print(event_count_bins.astype(int))\n",
    "fig, ax = plt.subplots(1,1)\n",
    "art = ds.flash_event_count.plot.hist(bins=event_count_bins, ax=ax)\n",
    "ax.semilogx()"
   ]
  },
  {
   "cell_type": "code",
   "execution_count": 23,
   "id": "4209d176-909b-4728-b3e0-59e68571ca07",
   "metadata": {},
   "outputs": [
    {
     "name": "stdout",
     "output_type": "stream",
     "text": [
      "[   0    1    3    7   15   31   63  127  255  511 1023 2047]\n"
     ]
    },
    {
     "data": {
      "text/plain": [
       "[]"
      ]
     },
     "execution_count": 23,
     "metadata": {},
     "output_type": "execute_result"
    },
    {
     "data": {
      "application/vnd.jupyter.widget-view+json": {
       "model_id": "b0558a4ddd724f7fbe75342c18a1da10",
       "version_major": 2,
       "version_minor": 0
      },
      "image/png": "[encoded data removed]",
      "text/plain": [
       "Canvas(toolbar=Toolbar(toolitems=[('Home', 'Reset original view', 'home', 'home'), ('Back', 'Back to previous …"
      ]
     },
     "metadata": {},
     "output_type": "display_data"
    }
   ],
   "source": [
    "event_count_bins = 2**np.arange(12)-0.5\n",
    "print(event_count_bins.astype(int))\n",
    "fig, ax = plt.subplots(1,1)\n",
    "art = ds.plot.scatter('flash_event_count', 'flash_area', marker='s', s=1, ax=ax)\n",
    "ax.semilogx()"
   ]
  },
  {
   "cell_type": "markdown",
   "id": "376387c1-3551-4798-8837-4cf7f70d9ea2",
   "metadata": {},
   "source": [
    "## Saving the data … or not\n",
    "\n",
    "At this stage we could save the flash-sorted data to a NetCDF file. However, we're going to pass on that step right now, in favor of adding a basic gridded dataset to our saved file."
   ]
  },
  {
   "cell_type": "code",
   "execution_count": 29,
   "id": "9cccb7cf-9eb4-4c76-adb7-3b7651680e11",
   "metadata": {},
   "outputs": [],
   "source": [
    "if False:\n",
    "    print(\"Writing data\")\n",
    "    duration_sec = (dttuple[1]-dttuple[0]).total_seconds()\n",
    "    date_fmt = \"LYLOUT_%y%m%d_%H%M%S_{0:04d}_flash.nc\".format(int(duration_sec))\n",
    "    outfile = dttuple[0].strftime(date_fmt)\n",
    "\n",
    "    # Compress the variables.\n",
    "    comp = dict(zlib=True, complevel=5)\n",
    "    encoding = {var: comp for var in ds.data_vars}\n",
    "    # ds.to_netcdf(outfile, encoding=encoding)"
   ]
  },
  {
   "cell_type": "markdown",
   "id": "6bf9249f-8aa0-47d2-b2f5-b1f62333699f",
   "metadata": {},
   "source": [
    "Above, we set `latlon_grid = False`; instead, let's use the 500 m stereographic grid defined by Stony Brook University's cell-tracking team. It's [defined in lmalibtracer](https://github.com/deeplycloudy/lmalib-tracer/blob/main/lmalibtracer/coords/sbu.py) and was imported above. The definition is not too complicated - it only requires specifying the radious of a spherical earth and a coordinate center location in addition. All the other coordinate transformations are handled for us by `pyproj`.\n",
    "\n",
    "The next block of code is a bit long, mainly beause we have repeated the blocks for defining the grid two ways. Note that we could uncomment a few lines and create a 3D grid, too. But it's useful to have flash extent density as a 2D instead of 3D analysis for quick-look visualizations, and it's also sufficient for most of our science."
   ]
  },
  {
   "cell_type": "code",
   "execution_count": 40,
   "id": "plain-bibliography",
   "metadata": {},
   "outputs": [
    {
     "name": "stdout",
     "output_type": "stream",
     "text": [
      "Setting up grid spec\n",
      "Creating regular grid\n",
      "Finding grid position for flashes\n",
      "Gridding data\n"
     ]
    }
   ],
   "source": [
    "print(\"Setting up grid spec\")\n",
    "grid_dt = np.asarray(grid_time_delta_sec, dtype='m8[s]')\n",
    "grid_t0 = np.asarray(dttuple[0]).astype('datetime64[ns]')\n",
    "grid_t1 = np.asarray(dttuple[1]).astype('datetime64[ns]')\n",
    "time_range = (grid_t0, grid_t1+grid_dt, grid_dt)\n",
    "\n",
    "# Change the dictionaries below to a consistent set of coordinates\n",
    "# and adjust grid_spatial_coords in the call to events_to_grid to\n",
    "# change what is gridded (various time series of 1D, 2D, 3D grids)\n",
    "\n",
    "if latlon_grid:\n",
    "    # Houston\n",
    "    # center = 29.7600000, -95.3700000\n",
    "    lat_range = (27.75, 31.75, 0.025)\n",
    "    lon_range = (-97.37, -93.37, 0.025)\n",
    "    alt_range = (0, 18e3, 1.0e3)\n",
    "\n",
    "\n",
    "    grid_edge_ranges ={\n",
    "        'grid_latitude_edge':lat_range,\n",
    "        'grid_longitude_edge':lon_range,\n",
    "    #     'grid_altitude_edge':alt_range,\n",
    "        'grid_time_edge':time_range,\n",
    "    }\n",
    "    grid_center_names ={\n",
    "        'grid_latitude_edge':'grid_latitude',\n",
    "        'grid_longitude_edge':'grid_longitude',\n",
    "    #     'grid_altitude_edge':'grid_altitude',\n",
    "        'grid_time_edge':'grid_time',\n",
    "    }\n",
    "\n",
    "    event_coord_names = {\n",
    "        'event_latitude':'grid_latitude_edge',\n",
    "        'event_longitude':'grid_longitude_edge',\n",
    "    #     'event_altitude':'grid_altitude_edge',\n",
    "        'event_time':'grid_time_edge',\n",
    "    }\n",
    "\n",
    "    flash_ctr_names = {\n",
    "        'flash_init_latitude':'grid_latitude_edge',\n",
    "        'flash_init_longitude':'grid_longitude_edge',\n",
    "    #     'flash_init_altitude':'grid_altitude_edge',\n",
    "        'flash_time_start':'grid_time_edge',\n",
    "    }\n",
    "    flash_init_names = {\n",
    "        'flash_center_latitude':'grid_latitude_edge',\n",
    "        'flash_center_longitude':'grid_longitude_edge',\n",
    "    #     'flash_center_altitude':'grid_altitude_edge',\n",
    "        'flash_time_start':'grid_time_edge',\n",
    "    }\n",
    "else:\n",
    "    # Project lon, lat to SBU map projection\n",
    "    sbu_lla, sbu_map, x_edge, y_edge = get_coord_proj()\n",
    "    sbu_dx = x_edge[1] - x_edge[0]\n",
    "    sbu_dy = y_edge[1] - y_edge[0]\n",
    "    lma_sbu_xratio = resolution_m/sbu_dx\n",
    "    lma_sbu_yratio = resolution_m/sbu_dy\n",
    "    trnsf_to_map = proj4.Transformer.from_crs(sbu_lla, sbu_map)\n",
    "    trnsf_from_map = proj4.Transformer.from_crs(sbu_map, sbu_lla)\n",
    "    lmax, lmay = trnsf_to_map.transform(#sbu_lla, sbu_map,\n",
    "                                 ds.event_longitude.data,\n",
    "                                 ds.event_latitude.data)\n",
    "    lma_initx, lma_inity = trnsf_to_map.transform(#sbu_lla, sbu_map,\n",
    "                                 ds.flash_init_longitude.data,\n",
    "                                 ds.flash_init_latitude.data)\n",
    "    lma_ctrx, lma_ctry = trnsf_to_map.transform(#sbu_lla, sbu_map,\n",
    "                                 ds.flash_center_longitude.data,\n",
    "                                 ds.flash_center_latitude.data)\n",
    "    ds['event_x'] = xr.DataArray(lmax, dims='number_of_events')\n",
    "    ds['event_y'] = xr.DataArray(lmay, dims='number_of_events')\n",
    "    ds['flash_init_x'] = xr.DataArray(lma_initx, dims='number_of_flashes')\n",
    "    ds['flash_init_y'] = xr.DataArray(lma_inity, dims='number_of_flashes')\n",
    "    ds['flash_ctr_x'] = xr.DataArray(lma_ctrx, dims='number_of_flashes')\n",
    "    ds['flash_ctr_y'] = xr.DataArray(lma_ctry, dims='number_of_flashes')\n",
    "\n",
    "    grid_edge_ranges ={\n",
    "        'grid_x_edge':(x_edge[0],x_edge[-1]+.001,sbu_dx*lma_sbu_xratio),\n",
    "        'grid_y_edge':(y_edge[0],y_edge[-1]+.001,sbu_dy*lma_sbu_yratio),\n",
    "    #     'grid_altitude_edge':alt_range,\n",
    "        'grid_time_edge':time_range,\n",
    "    }\n",
    "    grid_center_names ={\n",
    "        'grid_x_edge':'grid_x',\n",
    "        'grid_y_edge':'grid_y',\n",
    "    #     'grid_altitude_edge':'grid_altitude',\n",
    "        'grid_time_edge':'grid_time',\n",
    "    }\n",
    "\n",
    "    event_coord_names = {\n",
    "        'event_x':'grid_x_edge',\n",
    "        'event_y':'grid_y_edge',\n",
    "    #     'event_altitude':'grid_altitude_edge',\n",
    "        'event_time':'grid_time_edge',\n",
    "    }\n",
    "\n",
    "    flash_ctr_names = {\n",
    "        'flash_init_x':'grid_x_edge',\n",
    "        'flash_init_y':'grid_y_edge',\n",
    "    #     'flash_init_altitude':'grid_altitude_edge',\n",
    "        'flash_time_start':'grid_time_edge',\n",
    "    }\n",
    "    flash_init_names = {\n",
    "        'flash_ctr_x':'grid_x_edge',\n",
    "        'flash_ctr_y':'grid_y_edge',\n",
    "    #     'flash_center_altitude':'grid_altitude_edge',\n",
    "        'flash_time_start':'grid_time_edge',\n",
    "    }\n",
    "\n",
    "\n",
    "print(\"Creating regular grid\")\n",
    "grid_ds = create_regular_grid(grid_edge_ranges, grid_center_names)\n",
    "if latlon_grid:\n",
    "    pass\n",
    "else:\n",
    "    ctrx, ctry = np.meshgrid(grid_ds.grid_x, grid_ds.grid_y)\n",
    "    hlon, hlat = trnsf_from_map.transform(ctrx, ctry)\n",
    "    # Add lon lat to the dataset, too.\n",
    "    ds['lon'] = xr.DataArray(hlon, dims=['grid_y', 'grid_x'],\n",
    "                    attrs={'standard_name':'longitude'})\n",
    "    ds['lat'] = xr.DataArray(hlat, dims=['grid_y', 'grid_x'],\n",
    "                    attrs={'standard_name':'latitude'})\n",
    "\n",
    "print(\"Finding grid position for flashes\")\n",
    "pixel_id_var = 'event_pixel_id'\n",
    "ds_ev = assign_regular_bins(grid_ds, ds, event_coord_names,\n",
    "    pixel_id_var=pixel_id_var, append_indices=True)\n",
    "# ds_flctr = assign_regular_bins(grid_ds, ds, flash_ctr_names,\n",
    "#     pixel_id_var='flash_ctr_pixel_id', append_indices=True)\n",
    "# flctr_gb = ds.groupby('flash_ctr_pixel_id')\n",
    "# ds_flini = assign_regular_bins(grid_ds, ds, flash_init_names,\n",
    "#     pixel_id_var='flash_init_pixel_id', append_indices=True)\n",
    "# flini_gb = ds.groupby('flash_init_pixel_id')\n",
    "\n",
    "# print('===== ev_gb')\n",
    "# for event_pixel_id, dsegb in ev_gb:\n",
    "#     print(dsegb)\n",
    "#     break\n",
    "# print('===== flctr_gb')\n",
    "# for event_pixel_id, dsfgb in flctr_gb:\n",
    "#     print(dsfgb)\n",
    "#     break\n",
    "\n",
    "print(\"Gridding data\")\n",
    "if latlon_grid:\n",
    "    grid_spatial_coords=['grid_time', None, 'grid_latitude', 'grid_longitude']\n",
    "    event_spatial_vars = ('event_altitude', 'event_latitude', 'event_longitude')\n",
    "else:\n",
    "    grid_spatial_coords=['grid_time', None, 'grid_y', 'grid_x']\n",
    "    event_spatial_vars = ('event_altitude', 'event_y', 'event_x')\n",
    "\n",
    "# print(ds_ev)\n",
    "# print(grid_ds)\n",
    "grid_ds = events_to_grid(ds_ev, grid_ds, min_points_per_flash=3,\n",
    "                         pixel_id_var=pixel_id_var,\n",
    "                         event_spatial_vars=event_spatial_vars,\n",
    "                         grid_spatial_coords=grid_spatial_coords)"
   ]
  },
  {
   "cell_type": "code",
   "execution_count": 41,
   "id": "707ee840-2a56-4d0b-ae11-8ecda11627bd",
   "metadata": {},
   "outputs": [
    {
     "name": "stdout",
     "output_type": "stream",
     "text": [
      "<xarray.Dataset>\n",
      "Dimensions:                              (grid_time: 120, grid_time_edge: 121, grid_x: 250, grid_x_edge: 251, grid_y: 250, grid_y_edge: 251, number_of_events: 219640, number_of_flashes: 4308, number_of_stations: 13)\n",
      "Coordinates:\n",
      "  * grid_x                               (grid_x) float64 -1.245e+05 ... 1.24...\n",
      "  * grid_y                               (grid_y) float64 -1.245e+05 ... 1.24...\n",
      "  * grid_x_edge                          (grid_x_edge) float64 -1.25e+05 ... ...\n",
      "  * grid_y_edge                          (grid_y_edge) float64 -1.25e+05 ... ...\n",
      "  * grid_time_edge                       (grid_time_edge) datetime64[ns] 2013...\n",
      "  * grid_time                            (grid_time) datetime64[ns] 2013-06-1...\n",
      "  * number_of_flashes                    (number_of_flashes) uint64 3 ... 8190\n",
      "Dimensions without coordinates: number_of_events, number_of_stations\n",
      "Data variables:\n",
      "    flash_extent_density                 (grid_time, grid_y, grid_x) float64 ...\n",
      "    average_flash_area                   (grid_time, grid_y, grid_x) float64 ...\n",
      "    stdev_flash_area                     (grid_time, grid_y, grid_x) float64 ...\n",
      "    minimum_flash_area                   (grid_time, grid_y, grid_x) float64 ...\n",
      "    average_flash_energy                 (grid_time, grid_y, grid_x) float64 ...\n",
      "    event_count                          (grid_time, grid_y, grid_x) float64 ...\n",
      "    event_total_power                    (grid_time, grid_y, grid_x) float64 ...\n",
      "    network_center_latitude              float64 29.76\n",
      "    network_center_longitude             float64 -95.37\n",
      "    network_center_altitude              float64 -200.0\n",
      "    station_latitude                     (number_of_stations) float32 29.9392...\n",
      "    station_longitude                    (number_of_stations) float32 -95.646...\n",
      "    station_altitude                     (number_of_stations) float32 31.6600...\n",
      "    station_event_fraction               (number_of_stations) float32 37154.0...\n",
      "    station_power_ratio                  (number_of_stations) float32 1.02083...\n",
      "    event_latitude                       (number_of_events) float32 31.346949...\n",
      "    event_longitude                      (number_of_events) float32 -96.4831 ...\n",
      "    event_altitude                       (number_of_events) float32 8841.32 ....\n",
      "    event_time                           (number_of_events) datetime64[ns] 20...\n",
      "    event_power                          (number_of_events) float32 10.4 ... ...\n",
      "    event_mask                           (number_of_events) uint32 2375 ... 2383\n",
      "    event_stations                       (number_of_events) uint8 6 7 7 ... 7 7\n",
      "    event_chi2                           (number_of_events) float32 0.42 ... ...\n",
      "    event_contributing_stations          (number_of_events, number_of_stations) uint8 ...\n",
      "    event_id                             (number_of_events) uint64 9 ... 321983\n",
      "    station_code                         (number_of_stations) object b'A' ......\n",
      "    flash_distance_separation_threshold  float64 3e+03\n",
      "    flash_time_separation_threshold      float64 0.15\n",
      "    flash_duration_threshold             float64 nan\n",
      "    flash_time_merge_threshold           float64 nan\n",
      "    flash_time_start                     (number_of_flashes) datetime64[ns] 2...\n",
      "    flash_time_end                       (number_of_flashes) datetime64[ns] 2...\n",
      "    flash_duration                       (number_of_flashes) timedelta64[ns] ...\n",
      "    flash_init_latitude                  (number_of_flashes) float32 31.34694...\n",
      "    flash_init_longitude                 (number_of_flashes) float32 -96.4831...\n",
      "    flash_init_altitude                  (number_of_flashes) float32 8841.32 ...\n",
      "    flash_area                           (number_of_flashes) float32 20.83425...\n",
      "    flash_volume                         (number_of_flashes) float32 0.020834...\n",
      "    flash_energy                         (number_of_flashes) float32 0.010769...\n",
      "    flash_center_latitude                (number_of_flashes) float32 31.33872...\n",
      "    flash_center_longitude               (number_of_flashes) float32 -96.4454...\n",
      "    flash_center_altitude                (number_of_flashes) float32 10884.46...\n",
      "    flash_power                          (number_of_flashes) float32 727.2 .....\n",
      "    flash_event_count                    (number_of_flashes) uint32 47 9 ... 5\n",
      "    event_parent_flash_id                (number_of_events) uint64 3 3 ... 8190\n",
      "    event_x                              (number_of_events) float64 -1.333e+0...\n",
      "    event_y                              (number_of_events) float64 2.092e+05...\n",
      "    event_z                              (number_of_events) float32 8841.32 ....\n",
      "    flash_id                             (number_of_flashes) uint64 3 ... 8190\n",
      "    flash_init_x                         (number_of_flashes) float64 -1.333e+...\n",
      "    flash_init_y                         (number_of_flashes) float64 2.092e+0...\n",
      "    flash_ctr_x                          (number_of_flashes) float64 -1.297e+...\n",
      "    flash_ctr_y                          (number_of_flashes) float64 2.083e+0...\n",
      "    lon                                  (grid_y, grid_x) float64 -96.35 ... ...\n",
      "    lat                                  (grid_y, grid_x) float64 28.35 ... 3...\n",
      "Attributes:\n",
      "    title:                    Lightning Mapping Array Dataset, L1b events and...\n",
      "    event_algorithm_name:      /data1/thor_ori/lma_admin/lma/lma_analysis -d ...\n",
      "    comment:                  \n",
      "    references:               \n",
      "    flash_algorithm_name:     pyxlma DBSCAN\n",
      "    event_algorithm_version:   10.11.1RT\n",
      "    institution:              unknown\n",
      "    history:                  LMA source file created  Sat Sep 12 23:56:45 20...\n",
      "    production_date:          2021-10-20 19:34:09 +00:00\n",
      "    source:                   VHF Lightning Mapping Array\n",
      "    production_site:          Default\n",
      "    flash_algorithm_version:  0.1\n"
     ]
    }
   ],
   "source": [
    "# Let's combine the flash and event data with the gridded data into one giant data structure.\n",
    "both_ds = xr.combine_by_coords((grid_ds, ds))\n",
    "print(both_ds)"
   ]
  },
  {
   "cell_type": "markdown",
   "id": "332b3570-e837-42fb-8cc4-9b060bb3bdd8",
   "metadata": {},
   "source": [
    "## Looking at the gridded data\n",
    "\n",
    "Once the cells above have been run, a new data structure (`both_ds`) will have the events, flashes, and their gridded versions. Note the new dimensions for the center and edges of the grid boxes (`grid_time: 24, grid_time_edge: 25, grid_x: 250, grid_x_edge: 251, grid_y: 250, grid_y_edge: 251`), and the new variables like `flash_extent_density` with dimensions `(grid_time, grid_y, grid_x)`.\n",
    "\n",
    "Let's plot flash extent density for the 42nd time step!"
   ]
  },
  {
   "cell_type": "code",
   "execution_count": 46,
   "id": "26a63f2d-d78f-4565-80ce-2eda170ed230",
   "metadata": {},
   "outputs": [
    {
     "name": "stdout",
     "output_type": "stream",
     "text": [
      "['2013-06-19T20:42:00.000000000' '2013-06-19T20:43:00.000000000']\n"
     ]
    },
    {
     "data": {
      "application/vnd.jupyter.widget-view+json": {
       "model_id": "1a3429bfbe9a4e04bca209ef904d2434",
       "version_major": 2,
       "version_minor": 0
      },
      "image/png": "[encoded data removed]",
      "text/plain": [
       "Canvas(toolbar=Toolbar(toolitems=[('Home', 'Reset original view', 'home', 'home'), ('Back', 'Back to previous …"
      ]
     },
     "metadata": {},
     "output_type": "display_data"
    }
   ],
   "source": [
    "time_idx = 42\n",
    "fig, ax = plt.subplots(1,1)\n",
    "both_ds.flash_extent_density[time_idx, :, :].plot.imshow(ax=ax)\n",
    "print(both_ds.grid_time_edge[time_idx:time_idx+2].data)"
   ]
  },
  {
   "cell_type": "markdown",
   "id": "1b1ad0a2-28ca-4e33-86fa-377d241a4d46",
   "metadata": {},
   "source": [
    "### Add widget interactivity\n",
    "\n",
    "It's a bit tedious to change the time index manually. Let's[Interact!](https://ipywidgets.readthedocs.io/en/latest/examples/Using%20Interact.html). It's possible to build much nicer interfaces, but this is enough for a quick look."
   ]
  },
  {
   "cell_type": "code",
   "execution_count": 54,
   "id": "36ba05f5-59ea-489e-a5f5-05cf9d0f6109",
   "metadata": {},
   "outputs": [
    {
     "data": {
      "text/plain": [
       "120"
      ]
     },
     "execution_count": 54,
     "metadata": {},
     "output_type": "execute_result"
    }
   ],
   "source": [
    "both_ds.dims['grid_time']"
   ]
  },
  {
   "cell_type": "code",
   "execution_count": 58,
   "id": "63034e5a-ec9b-4c52-9521-c9fe8032402c",
   "metadata": {},
   "outputs": [
    {
     "name": "stderr",
     "output_type": "stream",
     "text": [
      "/Users/ebruning/miniconda3/envs/lmatracer/lib/python3.7/site-packages/ipykernel_launcher.py:2: RuntimeWarning: More than 20 figures have been opened. Figures created through the pyplot interface (`matplotlib.pyplot.figure`) are retained until explicitly closed and may consume too much memory. (To control this warning, see the rcParam `figure.max_open_warning`).\n",
      "  \n"
     ]
    },
    {
     "data": {
      "application/vnd.jupyter.widget-view+json": {
       "model_id": "d488d77828884f53b6b9e27116697e8e",
       "version_major": 2,
       "version_minor": 0
      },
      "text/plain": [
       "interactive(children=(IntSlider(value=0, description='time_idx', max=119), Output()), _dom_classes=('widget-in…"
      ]
     },
     "metadata": {},
     "output_type": "display_data"
    },
    {
     "data": {
      "application/vnd.jupyter.widget-view+json": {
       "model_id": "cd480527fdbb45f698f5e969cc7ba8c3",
       "version_major": 2,
       "version_minor": 0
      },
      "image/png": "[encoded data removed]",
      "text/plain": [
       "Canvas(toolbar=Toolbar(toolitems=[('Home', 'Reset original view', 'home', 'home'), ('Back', 'Back to previous …"
      ]
     },
     "metadata": {},
     "output_type": "display_data"
    }
   ],
   "source": [
    "from ipywidgets import interact #, interactive, fixed, interact_manual\n",
    "fig = plt.figure()\n",
    "\n",
    "n_times = both_ds.dims['grid_time']\n",
    "@interact(time_idx=(0, n_times-1))\n",
    "def plot(time_idx=0):\n",
    "    fig.clear()\n",
    "    ax = fig.add_subplot(1,1,1)\n",
    "    both_ds.flash_extent_density[time_idx, :, :].plot.imshow(ax=ax, vmin=0, vmax=5)"
   ]
  },
  {
   "cell_type": "markdown",
   "id": "a0fa11bd-4733-46ea-b985-9f15c8141fb3",
   "metadata": {},
   "source": [
    "## Aggregating in time\n",
    "With these low flash rates, it's hard to get a sense of everything in the dataset, so let's sum across the time dimension. (`xarray` also has a rolling window function.)"
   ]
  },
  {
   "cell_type": "code",
   "execution_count": 68,
   "id": "fd88068e-59a7-4bf9-8cbb-848b9349acb4",
   "metadata": {},
   "outputs": [
    {
     "name": "stderr",
     "output_type": "stream",
     "text": [
      "/Users/ebruning/miniconda3/envs/lmatracer/lib/python3.7/site-packages/ipykernel_launcher.py:1: RuntimeWarning: More than 20 figures have been opened. Figures created through the pyplot interface (`matplotlib.pyplot.figure`) are retained until explicitly closed and may consume too much memory. (To control this warning, see the rcParam `figure.max_open_warning`).\n",
      "  \"\"\"Entry point for launching an IPython kernel.\n"
     ]
    },
    {
     "data": {
      "text/plain": [
       "<matplotlib.image.AxesImage at 0x7fb3b6577950>"
      ]
     },
     "execution_count": 68,
     "metadata": {},
     "output_type": "execute_result"
    },
    {
     "data": {
      "application/vnd.jupyter.widget-view+json": {
       "model_id": "40dcd6a1e4144eefa1fc31b627a9ef91",
       "version_major": 2,
       "version_minor": 0
      },
      "image/png": "[encoded data removed]",
      "text/plain": [
       "Canvas(toolbar=Toolbar(toolitems=[('Home', 'Reset original view', 'home', 'home'), ('Back', 'Back to previous …"
      ]
     },
     "metadata": {},
     "output_type": "display_data"
    }
   ],
   "source": [
    "fig = plt.figure()\n",
    "ax = fig.add_subplot(1,1,1)\n",
    "from matplotlib.colors import LogNorm\n",
    "both_ds.flash_extent_density.sum('grid_time').plot.imshow(ax=ax, norm=LogNorm(1, 300))"
   ]
  },
  {
   "cell_type": "markdown",
   "id": "d426b20a-5245-4846-8e3f-09b42b27d606",
   "metadata": {},
   "source": [
    "## Finally, write the data."
   ]
  },
  {
   "cell_type": "code",
   "execution_count": 9,
   "id": "rotary-acrobat",
   "metadata": {},
   "outputs": [
    {
     "name": "stdout",
     "output_type": "stream",
     "text": [
      "Writing data\n"
     ]
    }
   ],
   "source": [
    "if False:\n",
    "    print(\"Writing data\")\n",
    "    duration_sec = (dttuple[1]-dttuple[0]).total_seconds()\n",
    "    if latlon_grid:\n",
    "        date_fmt = \"LYLOUT_%y%m%d_%H%M%S_{0:04d}_grid.nc\".format(int(duration_sec))\n",
    "    else:\n",
    "        date_fmt = \"LYLOUT_%y%m%d_%H%M%S_{0:04d}_map{1:d}m.nc\".format(\n",
    "                        int(duration_sec), resolution_m)\n",
    "    outfile = dttuple[0].strftime(date_fmt)\n",
    "\n",
    "    comp = dict(zlib=True, complevel=5)\n",
    "    encoding = {var: comp for var in both_ds.data_vars}\n",
    "    both_ds.to_netcdf(outfile, encoding=encoding)"
   ]
  },
  {
   "cell_type": "code",
   "execution_count": 186,
   "id": "contained-sandwich",
   "metadata": {},
   "outputs": [],
   "source": []
  },
  {
   "cell_type": "markdown",
   "id": "f44682ba-4222-4b49-a8a7-2c64823c805d",
   "metadata": {},
   "source": [
    "## Time-height\n",
    "\n",
    "Reprocess flash level data to give a time-height flash extent density grid instead.\n",
    "\n",
    "# Not yet tested - save for later."
   ]
  },
  {
   "cell_type": "raw",
   "id": "sublime-store",
   "metadata": {},
   "source": [
    "ds = dsfl\n",
    "\n",
    "print(\"Setting up grid spec\")\n",
    "grid_dt = np.asarray(60, dtype='m8[s]')\n",
    "grid_t0 = np.asarray(dttuple[0]).astype('datetime64[ns]')\n",
    "grid_t1 = np.asarray(dttuple[1]).astype('datetime64[ns]')\n",
    "time_range = (grid_t0, grid_t1+grid_dt, grid_dt)\n",
    "alt_range = (0, 18e3, 1.0e3)\n",
    "\n",
    "\n",
    "# Change the dictionaries below to a consistent set of coordinates\n",
    "# and adjust grid_spatial_coords in the call to events_to_grid to\n",
    "# change what is gridded (various time series of 1D, 2D, 3D grids)\n",
    "\n",
    "# Project lon, lat to SBU map projection\n",
    "sbu_lla, sbu_map, x_edge, y_edge = get_coord_proj()\n",
    "sbu_dx = x_edge[1] - x_edge[0]\n",
    "sbu_dy = y_edge[1] - y_edge[0]\n",
    "lma_sbu_xratio = resolution_m/sbu_dx\n",
    "lma_sbu_yratio = resolution_m/sbu_dy\n",
    "trnsf_to_map = proj4.Transformer.from_crs(sbu_lla, sbu_map)\n",
    "trnsf_from_map = proj4.Transformer.from_crs(sbu_map, sbu_lla)\n",
    "lmax, lmay = trnsf_to_map.transform(#sbu_lla, sbu_map,\n",
    "                             ds.event_longitude.data,\n",
    "                             ds.event_latitude.data)\n",
    "lma_initx, lma_inity = trnsf_to_map.transform(#sbu_lla, sbu_map,\n",
    "                             ds.flash_init_longitude.data,\n",
    "                             ds.flash_init_latitude.data)\n",
    "lma_ctrx, lma_ctry = trnsf_to_map.transform(#sbu_lla, sbu_map,\n",
    "                             ds.flash_center_longitude.data,\n",
    "                             ds.flash_center_latitude.data)\n",
    "ds['event_x'] = xr.DataArray(lmax, dims='number_of_events')\n",
    "ds['event_y'] = xr.DataArray(lmay, dims='number_of_events')\n",
    "ds['flash_init_x'] = xr.DataArray(lma_initx, dims='number_of_flashes')\n",
    "ds['flash_init_y'] = xr.DataArray(lma_inity, dims='number_of_flashes')\n",
    "ds['flash_ctr_x'] = xr.DataArray(lma_ctrx, dims='number_of_flashes')\n",
    "ds['flash_ctr_y'] = xr.DataArray(lma_ctry, dims='number_of_flashes')\n",
    "\n",
    "grid_edge_ranges ={\n",
    "#         'grid_x_edge':(x_edge[0],x_edge[-1]+.001,sbu_dx*lma_sbu_xratio),\n",
    "#         'grid_y_edge':(y_edge[0],y_edge[-1]+.001,sbu_dy*lma_sbu_yratio),\n",
    "    'grid_altitude_edge':alt_range,\n",
    "    'grid_time_edge':time_range,\n",
    "}\n",
    "grid_center_names ={\n",
    "#         'grid_x_edge':'grid_x',\n",
    "#         'grid_y_edge':'grid_y',\n",
    "    'grid_altitude_edge':'grid_altitude',\n",
    "    'grid_time_edge':'grid_time',\n",
    "}\n",
    "\n",
    "event_coord_names = {\n",
    "#         'event_x':'grid_x_edge',\n",
    "#         'event_y':'grid_y_edge',\n",
    "    'event_altitude':'grid_altitude_edge',\n",
    "    'event_time':'grid_time_edge',\n",
    "}\n",
    "\n",
    "flash_ctr_names = {\n",
    "#         'flash_init_x':'grid_x_edge',\n",
    "#         'flash_init_y':'grid_y_edge',\n",
    "    'flash_init_altitude':'grid_altitude_edge',\n",
    "    'flash_time_start':'grid_time_edge',\n",
    "}\n",
    "flash_init_names = {\n",
    "#         'flash_ctr_x':'grid_x_edge',\n",
    "#         'flash_ctr_y':'grid_y_edge',\n",
    "    'flash_center_altitude':'grid_altitude_edge',\n",
    "    'flash_time_start':'grid_time_edge',\n",
    "}\n",
    "\n",
    "\n",
    "print(\"Creating regular grid\")\n",
    "grid_ds = create_regular_grid(grid_edge_ranges, grid_center_names)\n",
    "# if latlon_grid:\n",
    "#     pass\n",
    "# else:\n",
    "#     ctrx, ctry = np.meshgrid(grid_ds.grid_x, grid_ds.grid_y)\n",
    "#     hlon, hlat = trnsf_from_map.transform(ctrx, ctry)\n",
    "#     # Add lon lat to the dataset, too.\n",
    "#     ds['lon'] = xr.DataArray(hlon, dims=['grid_y', 'grid_x'],\n",
    "#                     attrs={'standard_name':'longitude'})\n",
    "#     ds['lat'] = xr.DataArray(hlat, dims=['grid_y', 'grid_x'],\n",
    "#                     attrs={'standard_name':'latitude'})\n",
    "\n",
    "print(\"Finding grid position for flashes\")\n",
    "pixel_id_var = 'event_pixel_id'\n",
    "ds_ev = assign_regular_bins(grid_ds, ds, event_coord_names,\n",
    "    pixel_id_var=pixel_id_var, append_indices=True)\n",
    "# ds_flctr = assign_regular_bins(grid_ds, ds, flash_ctr_names,\n",
    "#     pixel_id_var='flash_ctr_pixel_id', append_indices=True)\n",
    "# flctr_gb = ds.groupby('flash_ctr_pixel_id')\n",
    "# ds_flini = assign_regular_bins(grid_ds, ds, flash_init_names,\n",
    "#     pixel_id_var='flash_init_pixel_id', append_indices=True)\n",
    "# flini_gb = ds.groupby('flash_init_pixel_id')\n",
    "\n",
    "# print('===== ev_gb')\n",
    "# for event_pixel_id, dsegb in ev_gb:\n",
    "#     print(dsegb)\n",
    "#     break\n",
    "# print('===== flctr_gb')\n",
    "# for event_pixel_id, dsfgb in flctr_gb:\n",
    "#     print(dsfgb)\n",
    "#     break\n",
    "\n",
    "print(\"Gridding data\")\n",
    "grid_spatial_coords=['grid_time', 'grid_altitude', None, None]\n",
    "event_spatial_vars = ('event_altitude', )\n",
    "\n",
    "# print(ds_ev)\n",
    "# print(grid_ds)\n",
    "grid_ds = events_to_grid(ds_ev, grid_ds, min_points_per_flash=3,\n",
    "                         pixel_id_var=pixel_id_var,\n",
    "                         event_spatial_vars=event_spatial_vars,\n",
    "                         grid_spatial_coords=grid_spatial_coords)\n",
    "\n",
    "\n",
    "both_ds = xr.combine_by_coords((grid_ds, ds))\n",
    "\n",
    "print(\"Writing data\")\n",
    "duration_sec = (dttuple[1]-dttuple[0]).total_seconds()\n",
    "if latlon_grid:\n",
    "    date_fmt = \"LYLOUT_%y%m%d_%H%M%S_{0:04d}_grid.nc\".format(int(duration_sec))\n",
    "else:\n",
    "    date_fmt = \"LYLOUT_%y%m%d_%H%M%S_{0:04d}_tz{1:d}m.nc\".format(\n",
    "                    int(duration_sec), resolution_m)\n",
    "outfile = dttuple[0].strftime(date_fmt)\n",
    "\n",
    "comp = dict(zlib=True, complevel=5)\n",
    "# encoding = {var: comp for var in both_ds.data_vars}\n",
    "grid_ds.to_netcdf(outfile, encoding=encoding)"
   ]
  },
  {
   "cell_type": "code",
   "execution_count": null,
   "id": "continental-hydrogen",
   "metadata": {},
   "outputs": [],
   "source": []
  }
 ],
 "metadata": {
  "kernelspec": {
   "display_name": "Python [conda env:lmatracer]",
   "language": "python",
   "name": "conda-env-lmatracer-py"
  },
  "language_info": {
   "codemirror_mode": {
    "name": "ipython",
    "version": 3
   },
   "file_extension": ".py",
   "mimetype": "text/x-python",
   "name": "python",
   "nbconvert_exporter": "python",
   "pygments_lexer": "ipython3",
   "version": "3.7.8"
  }
 },
 "nbformat": 4,
 "nbformat_minor": 5
}
