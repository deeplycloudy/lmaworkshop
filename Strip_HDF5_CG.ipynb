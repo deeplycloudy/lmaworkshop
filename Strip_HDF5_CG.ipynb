{
 "cells": [
  {
   "cell_type": "code",
   "execution_count": 13,
   "metadata": {
    "collapsed": false
   },
   "outputs": [
    {
     "name": "stdout",
     "output_type": "stream",
     "text": [
      "/data/GLM-wkshp/flashsort/results/h5_files/2009/Apr/10/LYLOUT_090410_160000_3600.dat.flash.h5 (File) 'Flash-sorted New Mexico Tech LMA Data'\n",
      "Last modif.: 'Mon Sep  7 14:42:38 2015'\n",
      "Object Tree: \n",
      "/ (RootGroup) 'Flash-sorted New Mexico Tech LMA Data'\n",
      "/NLDN (Group) 'NLDN strokes'\n",
      "/NLDN/NLDN_090410_160000_600 (Table(0,)) 'NLDN_090410_160000_600'\n",
      "/events (Group) 'Analyzed detected events'\n",
      "/events/LMA_090410_160000_3600 (Table(707034,)) 'LMA_090410_160000_3600'\n",
      "/flashes (Group) 'Sorted LMA flash data'\n",
      "/flashes/LMA_090410_160000_3600 (Table(119487,)) 'LMA_090410_160000_3600_cg'\n",
      "\n",
      "LMA_090410_160000_3600\n"
     ]
    }
   ],
   "source": [
    "import os\n",
    "import tables, pandas\n",
    "import numpy as np\n",
    "\n",
    "results_dir = \"/data/GLM-wkshp/flashsort/results/\"\n",
    "h5name = os.path.join(results_dir, \"h5_files/2009/Apr/10/LYLOUT_090410_160000_3600.dat.flash.h5\")\n",
    "h5 = tables.open_file(h5name, 'a')\n",
    "print h5\n",
    "\n",
    "table_name = h5.root.flashes._v_children.keys()[0]\n",
    "print table_name"
   ]
  },
  {
   "cell_type": "code",
   "execution_count": 14,
   "metadata": {
    "collapsed": false
   },
   "outputs": [
    {
     "name": "stdout",
     "output_type": "stream",
     "text": [
      "/data/GLM-wkshp/flashsort/results/h5_files/2009/Apr/10/LYLOUT_090410_160000_3600.dat.flash.h5 (File) 'Flash-sorted New Mexico Tech LMA Data'\n",
      "Last modif.: 'Mon Sep  7 14:42:38 2015'\n",
      "Object Tree: \n",
      "/ (RootGroup) 'Flash-sorted New Mexico Tech LMA Data'\n",
      "/events (Group) 'Analyzed detected events'\n",
      "/events/LMA_090410_160000_3600 (Table(707034,)) 'LMA_090410_160000_3600'\n",
      "/flashes (Group) 'Sorted LMA flash data'\n",
      "/flashes/LMA_090410_160000_3600 (Table(119487,)) 'LMA_090410_160000_3600_cg'\n",
      "\n"
     ]
    }
   ],
   "source": [
    "h5.remove_node(h5.root.NLDN, recursive=True)\n",
    "print h5"
   ]
  },
  {
   "cell_type": "code",
   "execution_count": 15,
   "metadata": {
    "collapsed": false
   },
   "outputs": [
    {
     "name": "stdout",
     "output_type": "stream",
     "text": [
      "LMA_090410_160000_3600\n",
      "h5 rewritten\n"
     ]
    }
   ],
   "source": [
    "group  = h5.root.flashes\n",
    "table  = getattr(h5.root.flashes, table_name)\n",
    "descr  = table.description._v_colobjects\n",
    "\n",
    "revised_table_title = table.title[:-3]\n",
    "print revised_table_title\n",
    "\n",
    "# Create the new description\n",
    "descr2 = descr.copy()\n",
    "# remove the CG key from the descriptor dictionary\n",
    "descr2.pop('CG')\n",
    "\n",
    "table2 = h5.createTable(group, table_name+'_temp', descr2, revised_table_title)\n",
    "\n",
    "table.attrs._f_copy(table2)\n",
    "for i in range(table.nrows):\n",
    "    table2.row.append()\n",
    "table2.flush()\n",
    "for col in descr2:\n",
    "    getattr(table2.cols, col)[:] = getattr(table.cols, col)[:]\n",
    "# for value in results[-np.isnan(results)]:\n",
    "#     for row in table2.where('flash_id == value'):\n",
    "#         row['CG'] = True\n",
    "#         row.update()\n",
    "\n",
    "table.remove()\n",
    "table2.move('/flashes',table_name)\n",
    "print 'h5 rewritten'\n",
    "h5.close()\n"
   ]
  },
  {
   "cell_type": "code",
   "execution_count": null,
   "metadata": {
    "collapsed": true
   },
   "outputs": [],
   "source": [
    "    "
   ]
  },
  {
   "cell_type": "code",
   "execution_count": null,
   "metadata": {
    "collapsed": true
   },
   "outputs": [],
   "source": []
  }
 ],
 "metadata": {
  "kernelspec": {
   "display_name": "Python 2",
   "language": "python",
   "name": "python2"
  },
  "language_info": {
   "codemirror_mode": {
    "name": "ipython",
    "version": 2
   },
   "file_extension": ".py",
   "mimetype": "text/x-python",
   "name": "python",
   "nbconvert_exporter": "python",
   "pygments_lexer": "ipython2",
   "version": "2.7.10"
  }
 },
 "nbformat": 4,
 "nbformat_minor": 0
}
